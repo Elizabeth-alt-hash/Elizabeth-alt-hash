{
 "cells": [
  {
   "cell_type": "markdown",
   "id": "cd55186d",
   "metadata": {},
   "source": [
    "# Explore Data Science Academy"
   ]
  },
  {
   "cell_type": "markdown",
   "id": "dc335f41",
   "metadata": {},
   "source": [
    "## 1. Importing libraries"
   ]
  },
  {
   "cell_type": "code",
   "execution_count": 1,
   "id": "db1579d8",
   "metadata": {},
   "outputs": [],
   "source": [
    "#importing our libraries\n",
    "import pandas as pd\n",
    "import numpy as np\n",
    "import seaborn as sns\n",
    "import matplotlib.pyplot as plt\n",
    "import warnings\n",
    "warnings.filterwarnings('ignore')\n",
    "from scipy.sparse import csr_matrix\n",
    "#import helper\n",
    "\n",
    "from sklearn.model_selection import train_test_split\n",
    "import numpy as np\n",
    "import pandas as pd\n",
    "import scipy as sp # <-- The sister of Numpy, used in our code for numerical efficientcy. \n",
    "import matplotlib.pyplot as plt\n",
    "import seaborn as sns\n",
    "\n",
    "# Entity featurization and similarity computation\n",
    "from sklearn.metrics.pairwise import cosine_similarity\n",
    "from sklearn.feature_extraction.text import TfidfVectorizer\n",
    "\n",
    "# Libraries used during sorting procedures.\n",
    "import operator # <-- Convienient item retrieval during iteration \n",
    "import heapq # <-- Efficient sorting of large lists\n",
    "\n",
    "# Imported for our sanity\n",
    "import warnings\n",
    "warnings.filterwarnings('ignore')\n",
    "from sklearn.neighbors import  NearestNeighbors\n",
    "import random\n",
    "from sklearn.preprocessing import StandardScaler\n",
    "from sklearn import preprocessing\n",
    "from sklearn.decomposition import PCA\n",
    "from sklearn.model_selection import train_test_split\n",
    "from surprise import Reader\n",
    "from surprise import Dataset\n",
    "from surprise import KNNWithMeans\n",
    "from surprise import KNNBasic\n",
    "from surprise.model_selection import cross_validate\n",
    "from surprise.model_selection import GridSearchCV\n",
    "from surprise import SVD\n",
    "from surprise import SVDpp\n",
    "from surprise import NMF\n",
    "from surprise import SlopeOne\n",
    "from surprise import CoClustering\n",
    "from sklearn.ensemble import RandomForestRegressor"
   ]
  },
  {
   "cell_type": "markdown",
   "id": "668830ed",
   "metadata": {},
   "source": [
    "## 2. Loading data"
   ]
  },
  {
   "cell_type": "code",
   "execution_count": 2,
   "id": "845dfde1",
   "metadata": {},
   "outputs": [],
   "source": [
    "# loading our csv data\n",
    "df_train = pd.read_csv('train.csv')\n",
    "df_test = pd.read_csv('test.csv')\n",
    "df_gtags= pd.read_csv('genome_tags.csv')\n",
    "df_movies = pd.read_csv('movies.csv')\n",
    "df_imdb_data = pd.read_csv('imdb_data.csv')\n",
    "df_tags =pd.read_csv('tags.csv')\n",
    "df_link =pd.read_csv('links.csv')\n",
    "df_score = pd.read_csv('genome_scores.csv')\n",
    "df_sample = pd.read_csv('sample_submission.csv')"
   ]
  },
  {
   "cell_type": "markdown",
   "id": "99b1e094",
   "metadata": {},
   "source": [
    "## 3. Exploratory data analysis"
   ]
  },
  {
   "cell_type": "code",
   "execution_count": 3,
   "id": "e2a64470",
   "metadata": {},
   "outputs": [
    {
     "data": {
      "text/html": [
       "<div>\n",
       "<style scoped>\n",
       "    .dataframe tbody tr th:only-of-type {\n",
       "        vertical-align: middle;\n",
       "    }\n",
       "\n",
       "    .dataframe tbody tr th {\n",
       "        vertical-align: top;\n",
       "    }\n",
       "\n",
       "    .dataframe thead th {\n",
       "        text-align: right;\n",
       "    }\n",
       "</style>\n",
       "<table border=\"1\" class=\"dataframe\">\n",
       "  <thead>\n",
       "    <tr style=\"text-align: right;\">\n",
       "      <th></th>\n",
       "      <th>userId</th>\n",
       "      <th>movieId</th>\n",
       "      <th>rating</th>\n",
       "      <th>timestamp</th>\n",
       "    </tr>\n",
       "  </thead>\n",
       "  <tbody>\n",
       "    <tr>\n",
       "      <th>3933573</th>\n",
       "      <td>118176</td>\n",
       "      <td>593</td>\n",
       "      <td>5.0</td>\n",
       "      <td>1197630915</td>\n",
       "    </tr>\n",
       "    <tr>\n",
       "      <th>7585778</th>\n",
       "      <td>32810</td>\n",
       "      <td>4282</td>\n",
       "      <td>5.0</td>\n",
       "      <td>1111718329</td>\n",
       "    </tr>\n",
       "    <tr>\n",
       "      <th>7585749</th>\n",
       "      <td>66818</td>\n",
       "      <td>1096</td>\n",
       "      <td>5.0</td>\n",
       "      <td>931950762</td>\n",
       "    </tr>\n",
       "    <tr>\n",
       "      <th>1564921</th>\n",
       "      <td>148022</td>\n",
       "      <td>2064</td>\n",
       "      <td>5.0</td>\n",
       "      <td>945887531</td>\n",
       "    </tr>\n",
       "    <tr>\n",
       "      <th>1564920</th>\n",
       "      <td>144508</td>\n",
       "      <td>589</td>\n",
       "      <td>5.0</td>\n",
       "      <td>838570244</td>\n",
       "    </tr>\n",
       "    <tr>\n",
       "      <th>...</th>\n",
       "      <td>...</td>\n",
       "      <td>...</td>\n",
       "      <td>...</td>\n",
       "      <td>...</td>\n",
       "    </tr>\n",
       "    <tr>\n",
       "      <th>847378</th>\n",
       "      <td>115968</td>\n",
       "      <td>593</td>\n",
       "      <td>0.5</td>\n",
       "      <td>1569739117</td>\n",
       "    </tr>\n",
       "    <tr>\n",
       "      <th>6370061</th>\n",
       "      <td>160886</td>\n",
       "      <td>5463</td>\n",
       "      <td>0.5</td>\n",
       "      <td>1488859995</td>\n",
       "    </tr>\n",
       "    <tr>\n",
       "      <th>2353090</th>\n",
       "      <td>94354</td>\n",
       "      <td>6942</td>\n",
       "      <td>0.5</td>\n",
       "      <td>1089775727</td>\n",
       "    </tr>\n",
       "    <tr>\n",
       "      <th>8318356</th>\n",
       "      <td>116606</td>\n",
       "      <td>2424</td>\n",
       "      <td>0.5</td>\n",
       "      <td>1122948350</td>\n",
       "    </tr>\n",
       "    <tr>\n",
       "      <th>1367693</th>\n",
       "      <td>93426</td>\n",
       "      <td>2706</td>\n",
       "      <td>0.5</td>\n",
       "      <td>1150829308</td>\n",
       "    </tr>\n",
       "  </tbody>\n",
       "</table>\n",
       "<p>10000038 rows × 4 columns</p>\n",
       "</div>"
      ],
      "text/plain": [
       "         userId  movieId  rating   timestamp\n",
       "3933573  118176      593     5.0  1197630915\n",
       "7585778   32810     4282     5.0  1111718329\n",
       "7585749   66818     1096     5.0   931950762\n",
       "1564921  148022     2064     5.0   945887531\n",
       "1564920  144508      589     5.0   838570244\n",
       "...         ...      ...     ...         ...\n",
       "847378   115968      593     0.5  1569739117\n",
       "6370061  160886     5463     0.5  1488859995\n",
       "2353090   94354     6942     0.5  1089775727\n",
       "8318356  116606     2424     0.5  1122948350\n",
       "1367693   93426     2706     0.5  1150829308\n",
       "\n",
       "[10000038 rows x 4 columns]"
      ]
     },
     "execution_count": 3,
     "metadata": {},
     "output_type": "execute_result"
    }
   ],
   "source": [
    "#looking at train dataset\n",
    "df_train = df_train.sort_values('rating', ascending=False)\n",
    "df_train"
   ]
  },
  {
   "cell_type": "code",
   "execution_count": 4,
   "id": "a948005c",
   "metadata": {},
   "outputs": [],
   "source": [
    "df_train['Id']=df_train['userId'].astype(str)+'_'+df_train['movieId'].astype(str)"
   ]
  },
  {
   "cell_type": "code",
   "execution_count": 5,
   "id": "2b638d29",
   "metadata": {},
   "outputs": [
    {
     "name": "stdout",
     "output_type": "stream",
     "text": [
      "<class 'pandas.core.frame.DataFrame'>\n",
      "Int64Index: 10000038 entries, 3933573 to 1367693\n",
      "Data columns (total 5 columns):\n",
      " #   Column     Dtype  \n",
      "---  ------     -----  \n",
      " 0   userId     int64  \n",
      " 1   movieId    int64  \n",
      " 2   rating     float64\n",
      " 3   timestamp  int64  \n",
      " 4   Id         object \n",
      "dtypes: float64(1), int64(3), object(1)\n",
      "memory usage: 457.8+ MB\n"
     ]
    }
   ],
   "source": [
    "df_train.info()"
   ]
  },
  {
   "cell_type": "code",
   "execution_count": 6,
   "id": "08069c74",
   "metadata": {},
   "outputs": [
    {
     "data": {
      "text/plain": [
       "Text(0, 0.5, 'Number of Ratings')"
      ]
     },
     "execution_count": 6,
     "metadata": {},
     "output_type": "execute_result"
    },
    {
     "data": {
      "image/png": "[encoded data removed]",
      "text/plain": [
       "<Figure size 1296x864 with 1 Axes>"
      ]
     },
     "metadata": {
      "needs_background": "light"
     },
     "output_type": "display_data"
    }
   ],
   "source": [
    "plt.figure(figsize=(18,12))\n",
    "sns.set_style(\"whitegrid\") \n",
    "data = df_train['userId'].value_counts(ascending=False).head(10)\n",
    "fig = sns.barplot(x=data.index, y=data, order=data.index, palette='hls')\n",
    "for i in fig.patches:\n",
    "        fig.text(i.get_x() + i.get_width()/2, i.get_height(), '%d' % int(i.get_height()), fontsize=18, ha='center', va='bottom')\n",
    "plt.title(\"Users with the Most Number of Ratings\", size=20)\n",
    "plt.xlabel(\"User ID\", size=18)\n",
    "plt.ylabel(\"Number of Ratings\", size=18)"
   ]
  },
  {
   "cell_type": "code",
   "execution_count": 7,
   "id": "5ffe0647",
   "metadata": {},
   "outputs": [
    {
     "data": {
      "text/plain": [
       "Text(0.5, 0, 'Rating')"
      ]
     },
     "execution_count": 7,
     "metadata": {},
     "output_type": "execute_result"
    },
    {
     "data": {
      "image/png": "[encoded data removed]",
      "text/plain": [
       "<Figure size 864x432 with 1 Axes>"
      ]
     },
     "metadata": {},
     "output_type": "display_data"
    }
   ],
   "source": [
    "plt.figure (figsize= (12,6))\n",
    "distribution = pd.DataFrame(list(df_train['rating'].value_counts()),\n",
    "                                   index=[4, 3, 5, 3.5, 4.5, 2, 2.5, 1, 1.5, 0.5],\n",
    "                                   columns=['Count'])\n",
    "sns.set()\n",
    "sns.color_palette(\"crest\", as_cmap=True)\n",
    "sns.barplot(x=distribution.index, y=distribution.Count)\n",
    "plt.title('Rating Distributions')\n",
    "plt.xlabel('Rating')"
   ]
  },
  {
   "cell_type": "markdown",
   "id": "be8a59ab",
   "metadata": {},
   "source": [
    "Another table that we will be making use of is the movies table , it contains sames rows as the one above but with 3 columns. The movies table contains the movieid , the genre and the title column. The genre column is very important because most users make use of the genre to search for movies not forgeting the title."
   ]
  },
  {
   "cell_type": "code",
   "execution_count": 8,
   "id": "c12ba104",
   "metadata": {},
   "outputs": [
    {
     "data": {
      "text/html": [
       "<div>\n",
       "<style scoped>\n",
       "    .dataframe tbody tr th:only-of-type {\n",
       "        vertical-align: middle;\n",
       "    }\n",
       "\n",
       "    .dataframe tbody tr th {\n",
       "        vertical-align: top;\n",
       "    }\n",
       "\n",
       "    .dataframe thead th {\n",
       "        text-align: right;\n",
       "    }\n",
       "</style>\n",
       "<table border=\"1\" class=\"dataframe\">\n",
       "  <thead>\n",
       "    <tr style=\"text-align: right;\">\n",
       "      <th></th>\n",
       "      <th>movieId</th>\n",
       "      <th>title</th>\n",
       "      <th>genres</th>\n",
       "    </tr>\n",
       "  </thead>\n",
       "  <tbody>\n",
       "    <tr>\n",
       "      <th>0</th>\n",
       "      <td>1</td>\n",
       "      <td>Toy Story (1995)</td>\n",
       "      <td>Adventure|Animation|Children|Comedy|Fantasy</td>\n",
       "    </tr>\n",
       "    <tr>\n",
       "      <th>1</th>\n",
       "      <td>2</td>\n",
       "      <td>Jumanji (1995)</td>\n",
       "      <td>Adventure|Children|Fantasy</td>\n",
       "    </tr>\n",
       "    <tr>\n",
       "      <th>2</th>\n",
       "      <td>3</td>\n",
       "      <td>Grumpier Old Men (1995)</td>\n",
       "      <td>Comedy|Romance</td>\n",
       "    </tr>\n",
       "    <tr>\n",
       "      <th>3</th>\n",
       "      <td>4</td>\n",
       "      <td>Waiting to Exhale (1995)</td>\n",
       "      <td>Comedy|Drama|Romance</td>\n",
       "    </tr>\n",
       "    <tr>\n",
       "      <th>4</th>\n",
       "      <td>5</td>\n",
       "      <td>Father of the Bride Part II (1995)</td>\n",
       "      <td>Comedy</td>\n",
       "    </tr>\n",
       "  </tbody>\n",
       "</table>\n",
       "</div>"
      ],
      "text/plain": [
       "   movieId                               title  \\\n",
       "0        1                    Toy Story (1995)   \n",
       "1        2                      Jumanji (1995)   \n",
       "2        3             Grumpier Old Men (1995)   \n",
       "3        4            Waiting to Exhale (1995)   \n",
       "4        5  Father of the Bride Part II (1995)   \n",
       "\n",
       "                                        genres  \n",
       "0  Adventure|Animation|Children|Comedy|Fantasy  \n",
       "1                   Adventure|Children|Fantasy  \n",
       "2                               Comedy|Romance  \n",
       "3                         Comedy|Drama|Romance  \n",
       "4                                       Comedy  "
      ]
     },
     "execution_count": 8,
     "metadata": {},
     "output_type": "execute_result"
    }
   ],
   "source": [
    "# checking the movies we have\n",
    "df_movies.head()"
   ]
  },
  {
   "cell_type": "markdown",
   "id": "9eea19b8",
   "metadata": {},
   "source": [
    "Below is the information of our movies dataset wich shows us the number of columns we have in this table with their data type , from the data we can see that two columns of table have object as their data type with 62423 entries."
   ]
  },
  {
   "cell_type": "code",
   "execution_count": 9,
   "id": "69b44664",
   "metadata": {},
   "outputs": [
    {
     "name": "stdout",
     "output_type": "stream",
     "text": [
      "<class 'pandas.core.frame.DataFrame'>\n",
      "RangeIndex: 62423 entries, 0 to 62422\n",
      "Data columns (total 3 columns):\n",
      " #   Column   Non-Null Count  Dtype \n",
      "---  ------   --------------  ----- \n",
      " 0   movieId  62423 non-null  int64 \n",
      " 1   title    62423 non-null  object\n",
      " 2   genres   62423 non-null  object\n",
      "dtypes: int64(1), object(2)\n",
      "memory usage: 1.4+ MB\n"
     ]
    }
   ],
   "source": [
    "df_movies.info()"
   ]
  },
  {
   "cell_type": "code",
   "execution_count": 10,
   "id": "454625bd",
   "metadata": {},
   "outputs": [],
   "source": [
    "df_movies['title']=df_movies['title'].astype(str)"
   ]
  },
  {
   "cell_type": "code",
   "execution_count": 11,
   "id": "e8c8da6b",
   "metadata": {},
   "outputs": [
    {
     "data": {
      "text/html": [
       "<div>\n",
       "<style scoped>\n",
       "    .dataframe tbody tr th:only-of-type {\n",
       "        vertical-align: middle;\n",
       "    }\n",
       "\n",
       "    .dataframe tbody tr th {\n",
       "        vertical-align: top;\n",
       "    }\n",
       "\n",
       "    .dataframe thead th {\n",
       "        text-align: right;\n",
       "    }\n",
       "</style>\n",
       "<table border=\"1\" class=\"dataframe\">\n",
       "  <thead>\n",
       "    <tr style=\"text-align: right;\">\n",
       "      <th></th>\n",
       "      <th>movieId</th>\n",
       "      <th>title</th>\n",
       "      <th>genres</th>\n",
       "      <th>year</th>\n",
       "    </tr>\n",
       "  </thead>\n",
       "  <tbody>\n",
       "    <tr>\n",
       "      <th>15812</th>\n",
       "      <td>83337</td>\n",
       "      <td>Mujhse Dosti Karoge! (2002)</td>\n",
       "      <td>Drama,Romance</td>\n",
       "      <td>2002</td>\n",
       "    </tr>\n",
       "    <tr>\n",
       "      <th>37439</th>\n",
       "      <td>152643</td>\n",
       "      <td>Dark Legacy II (2014)</td>\n",
       "      <td>Documentary</td>\n",
       "      <td>2014</td>\n",
       "    </tr>\n",
       "    <tr>\n",
       "      <th>44533</th>\n",
       "      <td>168424</td>\n",
       "      <td>Liar, Liar, Vampire (2015)</td>\n",
       "      <td>Comedy</td>\n",
       "      <td>2015</td>\n",
       "    </tr>\n",
       "  </tbody>\n",
       "</table>\n",
       "</div>"
      ],
      "text/plain": [
       "       movieId                        title         genres  year\n",
       "15812    83337  Mujhse Dosti Karoge! (2002)  Drama,Romance  2002\n",
       "37439   152643        Dark Legacy II (2014)    Documentary  2014\n",
       "44533   168424   Liar, Liar, Vampire (2015)         Comedy  2015"
      ]
     },
     "execution_count": 11,
     "metadata": {},
     "output_type": "execute_result"
    }
   ],
   "source": [
    "df_movies[\"genres\"] = df_movies[\"genres\"].str.replace('|', ',', regex=True)\n",
    "df_movies['year'] = df_movies['title'].str.extract(r\"\\((\\d+)\\)\", expand=False)\n",
    "df_movies.sample(3)"
   ]
  },
  {
   "cell_type": "code",
   "execution_count": 12,
   "id": "b056ba49",
   "metadata": {},
   "outputs": [
    {
     "data": {
      "image/png": "[encoded data removed]",
      "text/plain": [
       "<Figure size 936x936 with 1 Axes>"
      ]
     },
     "metadata": {},
     "output_type": "display_data"
    }
   ],
   "source": [
    "from wordcloud import WordCloud, STOPWORDS, ImageColorGenerator\n",
    "gen = df_movies['genres'].explode()\n",
    "text = list(set(gen))\n",
    "plt.rcParams['figure.figsize'] = (13, 13)\n",
    "wordcloud = WordCloud(max_font_size=50, max_words=100,background_color=\"black\").generate(str(text))\n",
    "\n",
    "plt.imshow(wordcloud,interpolation=\"bilinear\")\n",
    "plt.axis(\"off\")\n",
    "plt.show()"
   ]
  },
  {
   "cell_type": "code",
   "execution_count": 13,
   "id": "d46bcd40",
   "metadata": {},
   "outputs": [
    {
     "data": {
      "image/png": "[encoded data removed]",
      "text/plain": [
       "<Figure size 1440x576 with 1 Axes>"
      ]
     },
     "metadata": {},
     "output_type": "display_data"
    }
   ],
   "source": [
    "movies_year_count = df_movies[\"year\"].value_counts()\n",
    "fig, ax = plt.subplots( figsize=(20,8))\n",
    "\n",
    "ax.bar(movies_year_count.index[:10], movies_year_count.values[:10],  facecolor='g', alpha=0.65)\n",
    "ax.set_xlabel(\"Production Years\", fontsize = 18)\n",
    "ax.set_ylabel(\"Numbers of Movies Produced\", fontsize = 18)\n",
    "ax.set_title(\"Years with the Highest Numbers of Movies produced\", fontsize = 20)\n",
    "plt.show()"
   ]
  },
  {
   "cell_type": "code",
   "execution_count": 14,
   "id": "8ec1aa5e",
   "metadata": {},
   "outputs": [
    {
     "data": {
      "image/png": "[encoded data removed]",
      "text/plain": [
       "<Figure size 1440x720 with 1 Axes>"
      ]
     },
     "metadata": {},
     "output_type": "display_data"
    }
   ],
   "source": [
    "# Ploting top genres in the Dataset\n",
    "plt.figure(figsize=(20, 10))\n",
    "gen = df_movies['genres'].explode()\n",
    "ax=sns.countplot(x=gen, order=gen.value_counts().index[:30],color='purple')\n",
    "ax.set_title('Top Genres', fontsize=15)\n",
    "plt.xticks(rotation =90)\n",
    "plt.style.use(\"dark_background\")\n",
    "plt.show()"
   ]
  },
  {
   "cell_type": "code",
   "execution_count": 15,
   "id": "3cfb16c3",
   "metadata": {
    "scrolled": true
   },
   "outputs": [
    {
     "data": {
      "text/html": [
       "<div>\n",
       "<style scoped>\n",
       "    .dataframe tbody tr th:only-of-type {\n",
       "        vertical-align: middle;\n",
       "    }\n",
       "\n",
       "    .dataframe tbody tr th {\n",
       "        vertical-align: top;\n",
       "    }\n",
       "\n",
       "    .dataframe thead th {\n",
       "        text-align: right;\n",
       "    }\n",
       "</style>\n",
       "<table border=\"1\" class=\"dataframe\">\n",
       "  <thead>\n",
       "    <tr style=\"text-align: right;\">\n",
       "      <th></th>\n",
       "      <th>movieId</th>\n",
       "      <th>title_cast</th>\n",
       "      <th>director</th>\n",
       "      <th>runtime</th>\n",
       "      <th>budget</th>\n",
       "      <th>plot_keywords</th>\n",
       "    </tr>\n",
       "  </thead>\n",
       "  <tbody>\n",
       "    <tr>\n",
       "      <th>0</th>\n",
       "      <td>1</td>\n",
       "      <td>Tom Hanks|Tim Allen|Don Rickles|Jim Varney|Wal...</td>\n",
       "      <td>John Lasseter</td>\n",
       "      <td>81.0</td>\n",
       "      <td>$30,000,000</td>\n",
       "      <td>toy|rivalry|cowboy|cgi animation</td>\n",
       "    </tr>\n",
       "    <tr>\n",
       "      <th>1</th>\n",
       "      <td>2</td>\n",
       "      <td>Robin Williams|Jonathan Hyde|Kirsten Dunst|Bra...</td>\n",
       "      <td>Jonathan Hensleigh</td>\n",
       "      <td>104.0</td>\n",
       "      <td>$65,000,000</td>\n",
       "      <td>board game|adventurer|fight|game</td>\n",
       "    </tr>\n",
       "    <tr>\n",
       "      <th>2</th>\n",
       "      <td>3</td>\n",
       "      <td>Walter Matthau|Jack Lemmon|Sophia Loren|Ann-Ma...</td>\n",
       "      <td>Mark Steven Johnson</td>\n",
       "      <td>101.0</td>\n",
       "      <td>$25,000,000</td>\n",
       "      <td>boat|lake|neighbor|rivalry</td>\n",
       "    </tr>\n",
       "    <tr>\n",
       "      <th>3</th>\n",
       "      <td>4</td>\n",
       "      <td>Whitney Houston|Angela Bassett|Loretta Devine|...</td>\n",
       "      <td>Terry McMillan</td>\n",
       "      <td>124.0</td>\n",
       "      <td>$16,000,000</td>\n",
       "      <td>black american|husband wife relationship|betra...</td>\n",
       "    </tr>\n",
       "    <tr>\n",
       "      <th>4</th>\n",
       "      <td>5</td>\n",
       "      <td>Steve Martin|Diane Keaton|Martin Short|Kimberl...</td>\n",
       "      <td>Albert Hackett</td>\n",
       "      <td>106.0</td>\n",
       "      <td>$30,000,000</td>\n",
       "      <td>fatherhood|doberman|dog|mansion</td>\n",
       "    </tr>\n",
       "  </tbody>\n",
       "</table>\n",
       "</div>"
      ],
      "text/plain": [
       "   movieId                                         title_cast  \\\n",
       "0        1  Tom Hanks|Tim Allen|Don Rickles|Jim Varney|Wal...   \n",
       "1        2  Robin Williams|Jonathan Hyde|Kirsten Dunst|Bra...   \n",
       "2        3  Walter Matthau|Jack Lemmon|Sophia Loren|Ann-Ma...   \n",
       "3        4  Whitney Houston|Angela Bassett|Loretta Devine|...   \n",
       "4        5  Steve Martin|Diane Keaton|Martin Short|Kimberl...   \n",
       "\n",
       "              director  runtime       budget  \\\n",
       "0        John Lasseter     81.0  $30,000,000   \n",
       "1   Jonathan Hensleigh    104.0  $65,000,000   \n",
       "2  Mark Steven Johnson    101.0  $25,000,000   \n",
       "3       Terry McMillan    124.0  $16,000,000   \n",
       "4       Albert Hackett    106.0  $30,000,000   \n",
       "\n",
       "                                       plot_keywords  \n",
       "0                   toy|rivalry|cowboy|cgi animation  \n",
       "1                   board game|adventurer|fight|game  \n",
       "2                         boat|lake|neighbor|rivalry  \n",
       "3  black american|husband wife relationship|betra...  \n",
       "4                    fatherhood|doberman|dog|mansion  "
      ]
     },
     "execution_count": 15,
     "metadata": {},
     "output_type": "execute_result"
    }
   ],
   "source": [
    "# viewing the database\n",
    "df_imdb_data.head()"
   ]
  },
  {
   "cell_type": "code",
   "execution_count": 16,
   "id": "644dc8bd",
   "metadata": {},
   "outputs": [
    {
     "data": {
      "text/html": [
       "<div>\n",
       "<style scoped>\n",
       "    .dataframe tbody tr th:only-of-type {\n",
       "        vertical-align: middle;\n",
       "    }\n",
       "\n",
       "    .dataframe tbody tr th {\n",
       "        vertical-align: top;\n",
       "    }\n",
       "\n",
       "    .dataframe thead th {\n",
       "        text-align: right;\n",
       "    }\n",
       "</style>\n",
       "<table border=\"1\" class=\"dataframe\">\n",
       "  <thead>\n",
       "    <tr style=\"text-align: right;\">\n",
       "      <th></th>\n",
       "      <th>movieId</th>\n",
       "      <th>title_cast</th>\n",
       "      <th>director</th>\n",
       "      <th>runtime</th>\n",
       "      <th>budget</th>\n",
       "      <th>plot_keywords</th>\n",
       "    </tr>\n",
       "  </thead>\n",
       "  <tbody>\n",
       "    <tr>\n",
       "      <th>0</th>\n",
       "      <td>1</td>\n",
       "      <td>Tom Hanks,Tim Allen,Don Rickles,Jim Varney,Wal...</td>\n",
       "      <td>John Lasseter</td>\n",
       "      <td>81.0</td>\n",
       "      <td>$30,000,000</td>\n",
       "      <td>toy,rivalry,cowboy,cgi animation</td>\n",
       "    </tr>\n",
       "    <tr>\n",
       "      <th>1</th>\n",
       "      <td>2</td>\n",
       "      <td>Robin Williams,Jonathan Hyde,Kirsten Dunst,Bra...</td>\n",
       "      <td>Jonathan Hensleigh</td>\n",
       "      <td>104.0</td>\n",
       "      <td>$65,000,000</td>\n",
       "      <td>board game,adventurer,fight,game</td>\n",
       "    </tr>\n",
       "    <tr>\n",
       "      <th>2</th>\n",
       "      <td>3</td>\n",
       "      <td>Walter Matthau,Jack Lemmon,Sophia Loren,Ann-Ma...</td>\n",
       "      <td>Mark Steven Johnson</td>\n",
       "      <td>101.0</td>\n",
       "      <td>$25,000,000</td>\n",
       "      <td>boat,lake,neighbor,rivalry</td>\n",
       "    </tr>\n",
       "  </tbody>\n",
       "</table>\n",
       "</div>"
      ],
      "text/plain": [
       "   movieId                                         title_cast  \\\n",
       "0        1  Tom Hanks,Tim Allen,Don Rickles,Jim Varney,Wal...   \n",
       "1        2  Robin Williams,Jonathan Hyde,Kirsten Dunst,Bra...   \n",
       "2        3  Walter Matthau,Jack Lemmon,Sophia Loren,Ann-Ma...   \n",
       "\n",
       "              director  runtime       budget                     plot_keywords  \n",
       "0        John Lasseter     81.0  $30,000,000  toy,rivalry,cowboy,cgi animation  \n",
       "1   Jonathan Hensleigh    104.0  $65,000,000  board game,adventurer,fight,game  \n",
       "2  Mark Steven Johnson    101.0  $25,000,000        boat,lake,neighbor,rivalry  "
      ]
     },
     "execution_count": 16,
     "metadata": {},
     "output_type": "execute_result"
    }
   ],
   "source": [
    "df_imdb_data[\"title_cast\"] = df_imdb_data[\"title_cast\"].str.replace('|', ',', regex=True)\n",
    "df_imdb_data['plot_keywords'] = df_imdb_data['plot_keywords'].str.replace('|', ',', regex=True)\n",
    "df_imdb_data.head(3)"
   ]
  },
  {
   "cell_type": "code",
   "execution_count": 17,
   "id": "828cfa83",
   "metadata": {},
   "outputs": [
    {
     "name": "stdout",
     "output_type": "stream",
     "text": [
      "<class 'pandas.core.frame.DataFrame'>\n",
      "RangeIndex: 27278 entries, 0 to 27277\n",
      "Data columns (total 6 columns):\n",
      " #   Column         Non-Null Count  Dtype  \n",
      "---  ------         --------------  -----  \n",
      " 0   movieId        27278 non-null  int64  \n",
      " 1   title_cast     17210 non-null  object \n",
      " 2   director       17404 non-null  object \n",
      " 3   runtime        15189 non-null  float64\n",
      " 4   budget         7906 non-null   object \n",
      " 5   plot_keywords  16200 non-null  object \n",
      "dtypes: float64(1), int64(1), object(4)\n",
      "memory usage: 1.2+ MB\n"
     ]
    }
   ],
   "source": [
    "df_imdb_data.info()"
   ]
  },
  {
   "cell_type": "code",
   "execution_count": 18,
   "id": "585a3301",
   "metadata": {},
   "outputs": [
    {
     "data": {
      "text/plain": [
       "0"
      ]
     },
     "execution_count": 18,
     "metadata": {},
     "output_type": "execute_result"
    }
   ],
   "source": [
    "#searching for null values in our train data\n",
    "df_train.isna().sum().sum()"
   ]
  },
  {
   "cell_type": "code",
   "execution_count": 19,
   "id": "0ca810ea",
   "metadata": {},
   "outputs": [
    {
     "data": {
      "text/plain": [
       "410"
      ]
     },
     "execution_count": 19,
     "metadata": {},
     "output_type": "execute_result"
    }
   ],
   "source": [
    "# searching for null values in our movies data\n",
    "df_movies.isna().sum().sum()"
   ]
  },
  {
   "cell_type": "code",
   "execution_count": 20,
   "id": "1b02c7b4",
   "metadata": {},
   "outputs": [
    {
     "data": {
      "text/plain": [
       "movieId    1.632738e+09\n",
       "runtime    1.523644e+06\n",
       "dtype: float64"
      ]
     },
     "execution_count": 20,
     "metadata": {},
     "output_type": "execute_result"
    }
   ],
   "source": [
    "# filling the null values with 0\n",
    "df_imdb_data.sum()"
   ]
  },
  {
   "cell_type": "code",
   "execution_count": 21,
   "id": "dc3b5666",
   "metadata": {},
   "outputs": [
    {
     "data": {
      "text/html": [
       "<div>\n",
       "<style scoped>\n",
       "    .dataframe tbody tr th:only-of-type {\n",
       "        vertical-align: middle;\n",
       "    }\n",
       "\n",
       "    .dataframe tbody tr th {\n",
       "        vertical-align: top;\n",
       "    }\n",
       "\n",
       "    .dataframe thead th {\n",
       "        text-align: right;\n",
       "    }\n",
       "</style>\n",
       "<table border=\"1\" class=\"dataframe\">\n",
       "  <thead>\n",
       "    <tr style=\"text-align: right;\">\n",
       "      <th></th>\n",
       "      <th>userId</th>\n",
       "      <th>movieId</th>\n",
       "      <th>rating</th>\n",
       "      <th>timestamp</th>\n",
       "      <th>Id</th>\n",
       "      <th>title</th>\n",
       "      <th>genres</th>\n",
       "      <th>year</th>\n",
       "    </tr>\n",
       "  </thead>\n",
       "  <tbody>\n",
       "    <tr>\n",
       "      <th>7332160</th>\n",
       "      <td>1</td>\n",
       "      <td>6370</td>\n",
       "      <td>4.5</td>\n",
       "      <td>1147869191</td>\n",
       "      <td>1_6370</td>\n",
       "      <td>Spanish Apartment, The (L'auberge espagnole) (...</td>\n",
       "      <td>Comedy,Drama,Romance</td>\n",
       "      <td>2002</td>\n",
       "    </tr>\n",
       "    <tr>\n",
       "      <th>7656830</th>\n",
       "      <td>1</td>\n",
       "      <td>6954</td>\n",
       "      <td>3.5</td>\n",
       "      <td>1147869150</td>\n",
       "      <td>1_6954</td>\n",
       "      <td>Barbarian Invasions, The (Les invasions barbar...</td>\n",
       "      <td>Comedy,Crime,Drama,Mystery,Romance</td>\n",
       "      <td>2003</td>\n",
       "    </tr>\n",
       "    <tr>\n",
       "      <th>8422356</th>\n",
       "      <td>1</td>\n",
       "      <td>27266</td>\n",
       "      <td>4.5</td>\n",
       "      <td>1147879365</td>\n",
       "      <td>1_27266</td>\n",
       "      <td>2046 (2004)</td>\n",
       "      <td>Drama,Fantasy,Romance,Sci-Fi</td>\n",
       "      <td>2004</td>\n",
       "    </tr>\n",
       "    <tr>\n",
       "      <th>4902074</th>\n",
       "      <td>1</td>\n",
       "      <td>27721</td>\n",
       "      <td>3.0</td>\n",
       "      <td>1147869115</td>\n",
       "      <td>1_27721</td>\n",
       "      <td>Very Long Engagement, A (Un long dimanche de f...</td>\n",
       "      <td>Drama,Mystery,Romance,War</td>\n",
       "      <td>2004</td>\n",
       "    </tr>\n",
       "    <tr>\n",
       "      <th>8426994</th>\n",
       "      <td>1</td>\n",
       "      <td>7937</td>\n",
       "      <td>3.0</td>\n",
       "      <td>1147878055</td>\n",
       "      <td>1_7937</td>\n",
       "      <td>Silence, The (Tystnaden) (1963)</td>\n",
       "      <td>Drama</td>\n",
       "      <td>1963</td>\n",
       "    </tr>\n",
       "    <tr>\n",
       "      <th>...</th>\n",
       "      <td>...</td>\n",
       "      <td>...</td>\n",
       "      <td>...</td>\n",
       "      <td>...</td>\n",
       "      <td>...</td>\n",
       "      <td>...</td>\n",
       "      <td>...</td>\n",
       "      <td>...</td>\n",
       "    </tr>\n",
       "    <tr>\n",
       "      <th>5217203</th>\n",
       "      <td>162541</td>\n",
       "      <td>2105</td>\n",
       "      <td>4.5</td>\n",
       "      <td>1240947373</td>\n",
       "      <td>162541_2105</td>\n",
       "      <td>Tron (1982)</td>\n",
       "      <td>Action,Adventure,Sci-Fi</td>\n",
       "      <td>1982</td>\n",
       "    </tr>\n",
       "    <tr>\n",
       "      <th>6917266</th>\n",
       "      <td>162541</td>\n",
       "      <td>344</td>\n",
       "      <td>0.5</td>\n",
       "      <td>1240949530</td>\n",
       "      <td>162541_344</td>\n",
       "      <td>Ace Ventura: Pet Detective (1994)</td>\n",
       "      <td>Comedy</td>\n",
       "      <td>1994</td>\n",
       "    </tr>\n",
       "    <tr>\n",
       "      <th>955990</th>\n",
       "      <td>162541</td>\n",
       "      <td>2968</td>\n",
       "      <td>4.0</td>\n",
       "      <td>1240947487</td>\n",
       "      <td>162541_2968</td>\n",
       "      <td>Time Bandits (1981)</td>\n",
       "      <td>Adventure,Comedy,Fantasy,Sci-Fi</td>\n",
       "      <td>1981</td>\n",
       "    </tr>\n",
       "    <tr>\n",
       "      <th>3189789</th>\n",
       "      <td>162541</td>\n",
       "      <td>2396</td>\n",
       "      <td>4.0</td>\n",
       "      <td>1240952712</td>\n",
       "      <td>162541_2396</td>\n",
       "      <td>Shakespeare in Love (1998)</td>\n",
       "      <td>Comedy,Drama,Romance</td>\n",
       "      <td>1998</td>\n",
       "    </tr>\n",
       "    <tr>\n",
       "      <th>519118</th>\n",
       "      <td>162541</td>\n",
       "      <td>260</td>\n",
       "      <td>5.0</td>\n",
       "      <td>1240952836</td>\n",
       "      <td>162541_260</td>\n",
       "      <td>Star Wars: Episode IV - A New Hope (1977)</td>\n",
       "      <td>Action,Adventure,Sci-Fi</td>\n",
       "      <td>1977</td>\n",
       "    </tr>\n",
       "  </tbody>\n",
       "</table>\n",
       "<p>10000038 rows × 8 columns</p>\n",
       "</div>"
      ],
      "text/plain": [
       "         userId  movieId  rating   timestamp           Id  \\\n",
       "7332160       1     6370     4.5  1147869191       1_6370   \n",
       "7656830       1     6954     3.5  1147869150       1_6954   \n",
       "8422356       1    27266     4.5  1147879365      1_27266   \n",
       "4902074       1    27721     3.0  1147869115      1_27721   \n",
       "8426994       1     7937     3.0  1147878055       1_7937   \n",
       "...         ...      ...     ...         ...          ...   \n",
       "5217203  162541     2105     4.5  1240947373  162541_2105   \n",
       "6917266  162541      344     0.5  1240949530   162541_344   \n",
       "955990   162541     2968     4.0  1240947487  162541_2968   \n",
       "3189789  162541     2396     4.0  1240952712  162541_2396   \n",
       "519118   162541      260     5.0  1240952836   162541_260   \n",
       "\n",
       "                                                     title  \\\n",
       "7332160  Spanish Apartment, The (L'auberge espagnole) (...   \n",
       "7656830  Barbarian Invasions, The (Les invasions barbar...   \n",
       "8422356                                        2046 (2004)   \n",
       "4902074  Very Long Engagement, A (Un long dimanche de f...   \n",
       "8426994                    Silence, The (Tystnaden) (1963)   \n",
       "...                                                    ...   \n",
       "5217203                                        Tron (1982)   \n",
       "6917266                  Ace Ventura: Pet Detective (1994)   \n",
       "955990                                 Time Bandits (1981)   \n",
       "3189789                         Shakespeare in Love (1998)   \n",
       "519118           Star Wars: Episode IV - A New Hope (1977)   \n",
       "\n",
       "                                     genres  year  \n",
       "7332160                Comedy,Drama,Romance  2002  \n",
       "7656830  Comedy,Crime,Drama,Mystery,Romance  2003  \n",
       "8422356        Drama,Fantasy,Romance,Sci-Fi  2004  \n",
       "4902074           Drama,Mystery,Romance,War  2004  \n",
       "8426994                               Drama  1963  \n",
       "...                                     ...   ...  \n",
       "5217203             Action,Adventure,Sci-Fi  1982  \n",
       "6917266                              Comedy  1994  \n",
       "955990      Adventure,Comedy,Fantasy,Sci-Fi  1981  \n",
       "3189789                Comedy,Drama,Romance  1998  \n",
       "519118              Action,Adventure,Sci-Fi  1977  \n",
       "\n",
       "[10000038 rows x 8 columns]"
      ]
     },
     "execution_count": 21,
     "metadata": {},
     "output_type": "execute_result"
    }
   ],
   "source": [
    "# merging train table with the movies table for better view\n",
    "train_movies = pd.merge( df_train, df_movies, on='movieId')\n",
    "train_movies=train_movies.sort_values('userId', ascending=True)\n",
    "train_movies"
   ]
  },
  {
   "cell_type": "code",
   "execution_count": 22,
   "id": "dec62dcd",
   "metadata": {},
   "outputs": [],
   "source": [
    "#del train_movies['userId']\n",
    "#del train_movies['movieId']"
   ]
  },
  {
   "cell_type": "code",
   "execution_count": 23,
   "id": "eaf650d5",
   "metadata": {},
   "outputs": [
    {
     "data": {
      "text/html": [
       "<div>\n",
       "<style scoped>\n",
       "    .dataframe tbody tr th:only-of-type {\n",
       "        vertical-align: middle;\n",
       "    }\n",
       "\n",
       "    .dataframe tbody tr th {\n",
       "        vertical-align: top;\n",
       "    }\n",
       "\n",
       "    .dataframe thead th {\n",
       "        text-align: right;\n",
       "    }\n",
       "</style>\n",
       "<table border=\"1\" class=\"dataframe\">\n",
       "  <thead>\n",
       "    <tr style=\"text-align: right;\">\n",
       "      <th></th>\n",
       "      <th>userId</th>\n",
       "      <th>movieId</th>\n",
       "      <th>rating</th>\n",
       "      <th>timestamp</th>\n",
       "      <th>Id</th>\n",
       "      <th>title</th>\n",
       "      <th>genres</th>\n",
       "      <th>year</th>\n",
       "    </tr>\n",
       "  </thead>\n",
       "  <tbody>\n",
       "    <tr>\n",
       "      <th>7332160</th>\n",
       "      <td>1</td>\n",
       "      <td>6370</td>\n",
       "      <td>4.5</td>\n",
       "      <td>1147869191</td>\n",
       "      <td>1_6370</td>\n",
       "      <td>Spanish Apartment, The (L'auberge espagnole) (...</td>\n",
       "      <td>Comedy,Drama,Romance</td>\n",
       "      <td>2002</td>\n",
       "    </tr>\n",
       "    <tr>\n",
       "      <th>7656830</th>\n",
       "      <td>1</td>\n",
       "      <td>6954</td>\n",
       "      <td>3.5</td>\n",
       "      <td>1147869150</td>\n",
       "      <td>1_6954</td>\n",
       "      <td>Barbarian Invasions, The (Les invasions barbar...</td>\n",
       "      <td>Comedy,Crime,Drama,Mystery,Romance</td>\n",
       "      <td>2003</td>\n",
       "    </tr>\n",
       "    <tr>\n",
       "      <th>8422356</th>\n",
       "      <td>1</td>\n",
       "      <td>27266</td>\n",
       "      <td>4.5</td>\n",
       "      <td>1147879365</td>\n",
       "      <td>1_27266</td>\n",
       "      <td>2046 (2004)</td>\n",
       "      <td>Drama,Fantasy,Romance,Sci-Fi</td>\n",
       "      <td>2004</td>\n",
       "    </tr>\n",
       "  </tbody>\n",
       "</table>\n",
       "</div>"
      ],
      "text/plain": [
       "         userId  movieId  rating   timestamp       Id  \\\n",
       "7332160       1     6370     4.5  1147869191   1_6370   \n",
       "7656830       1     6954     3.5  1147869150   1_6954   \n",
       "8422356       1    27266     4.5  1147879365  1_27266   \n",
       "\n",
       "                                                     title  \\\n",
       "7332160  Spanish Apartment, The (L'auberge espagnole) (...   \n",
       "7656830  Barbarian Invasions, The (Les invasions barbar...   \n",
       "8422356                                        2046 (2004)   \n",
       "\n",
       "                                     genres  year  \n",
       "7332160                Comedy,Drama,Romance  2002  \n",
       "7656830  Comedy,Crime,Drama,Mystery,Romance  2003  \n",
       "8422356        Drama,Fantasy,Romance,Sci-Fi  2004  "
      ]
     },
     "execution_count": 23,
     "metadata": {},
     "output_type": "execute_result"
    }
   ],
   "source": [
    "train_movies.head(3)"
   ]
  },
  {
   "cell_type": "code",
   "execution_count": 24,
   "id": "b78a983d",
   "metadata": {},
   "outputs": [
    {
     "data": {
      "text/plain": [
       "(10000038, 8)"
      ]
     },
     "execution_count": 24,
     "metadata": {},
     "output_type": "execute_result"
    }
   ],
   "source": [
    "# viewing the train movies shape\n",
    "train_movies.shape"
   ]
  },
  {
   "cell_type": "code",
   "execution_count": 25,
   "id": "4525a05c",
   "metadata": {},
   "outputs": [
    {
     "data": {
      "text/html": [
       "<div>\n",
       "<style scoped>\n",
       "    .dataframe tbody tr th:only-of-type {\n",
       "        vertical-align: middle;\n",
       "    }\n",
       "\n",
       "    .dataframe tbody tr th {\n",
       "        vertical-align: top;\n",
       "    }\n",
       "\n",
       "    .dataframe thead th {\n",
       "        text-align: right;\n",
       "    }\n",
       "</style>\n",
       "<table border=\"1\" class=\"dataframe\">\n",
       "  <thead>\n",
       "    <tr style=\"text-align: right;\">\n",
       "      <th></th>\n",
       "      <th>userId</th>\n",
       "      <th>movieId</th>\n",
       "      <th>rating</th>\n",
       "      <th>timestamp</th>\n",
       "    </tr>\n",
       "  </thead>\n",
       "  <tbody>\n",
       "    <tr>\n",
       "      <th>count</th>\n",
       "      <td>1.000004e+07</td>\n",
       "      <td>1.000004e+07</td>\n",
       "      <td>1.000004e+07</td>\n",
       "      <td>1.000004e+07</td>\n",
       "    </tr>\n",
       "    <tr>\n",
       "      <th>mean</th>\n",
       "      <td>8.119909e+04</td>\n",
       "      <td>2.138911e+04</td>\n",
       "      <td>3.533395e+00</td>\n",
       "      <td>1.215677e+09</td>\n",
       "    </tr>\n",
       "    <tr>\n",
       "      <th>std</th>\n",
       "      <td>4.679359e+04</td>\n",
       "      <td>3.919578e+04</td>\n",
       "      <td>1.061124e+00</td>\n",
       "      <td>2.268921e+08</td>\n",
       "    </tr>\n",
       "    <tr>\n",
       "      <th>min</th>\n",
       "      <td>1.000000e+00</td>\n",
       "      <td>1.000000e+00</td>\n",
       "      <td>5.000000e-01</td>\n",
       "      <td>7.896520e+08</td>\n",
       "    </tr>\n",
       "    <tr>\n",
       "      <th>25%</th>\n",
       "      <td>4.051000e+04</td>\n",
       "      <td>1.197000e+03</td>\n",
       "      <td>3.000000e+00</td>\n",
       "      <td>1.011742e+09</td>\n",
       "    </tr>\n",
       "    <tr>\n",
       "      <th>50%</th>\n",
       "      <td>8.091400e+04</td>\n",
       "      <td>2.947000e+03</td>\n",
       "      <td>3.500000e+00</td>\n",
       "      <td>1.199019e+09</td>\n",
       "    </tr>\n",
       "    <tr>\n",
       "      <th>75%</th>\n",
       "      <td>1.215790e+05</td>\n",
       "      <td>8.630000e+03</td>\n",
       "      <td>4.000000e+00</td>\n",
       "      <td>1.447242e+09</td>\n",
       "    </tr>\n",
       "    <tr>\n",
       "      <th>max</th>\n",
       "      <td>1.625410e+05</td>\n",
       "      <td>2.091710e+05</td>\n",
       "      <td>5.000000e+00</td>\n",
       "      <td>1.574328e+09</td>\n",
       "    </tr>\n",
       "  </tbody>\n",
       "</table>\n",
       "</div>"
      ],
      "text/plain": [
       "             userId       movieId        rating     timestamp\n",
       "count  1.000004e+07  1.000004e+07  1.000004e+07  1.000004e+07\n",
       "mean   8.119909e+04  2.138911e+04  3.533395e+00  1.215677e+09\n",
       "std    4.679359e+04  3.919578e+04  1.061124e+00  2.268921e+08\n",
       "min    1.000000e+00  1.000000e+00  5.000000e-01  7.896520e+08\n",
       "25%    4.051000e+04  1.197000e+03  3.000000e+00  1.011742e+09\n",
       "50%    8.091400e+04  2.947000e+03  3.500000e+00  1.199019e+09\n",
       "75%    1.215790e+05  8.630000e+03  4.000000e+00  1.447242e+09\n",
       "max    1.625410e+05  2.091710e+05  5.000000e+00  1.574328e+09"
      ]
     },
     "execution_count": 25,
     "metadata": {},
     "output_type": "execute_result"
    }
   ],
   "source": [
    "# looking at the data's statistics\n",
    "train_movies.describe()"
   ]
  },
  {
   "cell_type": "code",
   "execution_count": 26,
   "id": "31fd0da5",
   "metadata": {},
   "outputs": [
    {
     "data": {
      "text/html": [
       "<div>\n",
       "<style scoped>\n",
       "    .dataframe tbody tr th:only-of-type {\n",
       "        vertical-align: middle;\n",
       "    }\n",
       "\n",
       "    .dataframe tbody tr th {\n",
       "        vertical-align: top;\n",
       "    }\n",
       "\n",
       "    .dataframe thead th {\n",
       "        text-align: right;\n",
       "    }\n",
       "</style>\n",
       "<table border=\"1\" class=\"dataframe\">\n",
       "  <thead>\n",
       "    <tr style=\"text-align: right;\">\n",
       "      <th></th>\n",
       "      <th>userId</th>\n",
       "      <th>movieId</th>\n",
       "      <th>rating</th>\n",
       "      <th>timestamp</th>\n",
       "    </tr>\n",
       "  </thead>\n",
       "  <tbody>\n",
       "    <tr>\n",
       "      <th>userId</th>\n",
       "      <td>1.000000</td>\n",
       "      <td>-0.004270</td>\n",
       "      <td>0.002202</td>\n",
       "      <td>-0.001347</td>\n",
       "    </tr>\n",
       "    <tr>\n",
       "      <th>movieId</th>\n",
       "      <td>-0.004270</td>\n",
       "      <td>1.000000</td>\n",
       "      <td>-0.008940</td>\n",
       "      <td>0.520786</td>\n",
       "    </tr>\n",
       "    <tr>\n",
       "      <th>rating</th>\n",
       "      <td>0.002202</td>\n",
       "      <td>-0.008940</td>\n",
       "      <td>1.000000</td>\n",
       "      <td>0.010301</td>\n",
       "    </tr>\n",
       "    <tr>\n",
       "      <th>timestamp</th>\n",
       "      <td>-0.001347</td>\n",
       "      <td>0.520786</td>\n",
       "      <td>0.010301</td>\n",
       "      <td>1.000000</td>\n",
       "    </tr>\n",
       "  </tbody>\n",
       "</table>\n",
       "</div>"
      ],
      "text/plain": [
       "             userId   movieId    rating  timestamp\n",
       "userId     1.000000 -0.004270  0.002202  -0.001347\n",
       "movieId   -0.004270  1.000000 -0.008940   0.520786\n",
       "rating     0.002202 -0.008940  1.000000   0.010301\n",
       "timestamp -0.001347  0.520786  0.010301   1.000000"
      ]
     },
     "execution_count": 26,
     "metadata": {},
     "output_type": "execute_result"
    }
   ],
   "source": [
    "# looking at the correlation\n",
    "train_movies.corr()"
   ]
  },
  {
   "cell_type": "code",
   "execution_count": 27,
   "id": "5f91059b",
   "metadata": {},
   "outputs": [
    {
     "data": {
      "text/plain": [
       "4752"
      ]
     },
     "execution_count": 27,
     "metadata": {},
     "output_type": "execute_result"
    }
   ],
   "source": [
    "# confirming if there are no null values\n",
    "train_movies.isna().sum().sum()"
   ]
  },
  {
   "cell_type": "code",
   "execution_count": 28,
   "id": "31f84f8d",
   "metadata": {},
   "outputs": [
    {
     "data": {
      "text/plain": [
       "array(['Comedy,Drama,Romance', 'Comedy,Crime,Drama,Mystery,Romance',\n",
       "       'Drama,Fantasy,Romance,Sci-Fi', ..., 'Action,Crime,Documentary',\n",
       "       'Animation,Crime,Fantasy,Mystery,Sci-Fi',\n",
       "       'Animation,Crime,Documentary,Drama'], dtype=object)"
      ]
     },
     "execution_count": 28,
     "metadata": {},
     "output_type": "execute_result"
    }
   ],
   "source": [
    "# looking at our unique genres\n",
    "train_movies['genres'].unique()"
   ]
  },
  {
   "cell_type": "code",
   "execution_count": 29,
   "id": "6f034120",
   "metadata": {},
   "outputs": [
    {
     "data": {
      "text/html": [
       "<div>\n",
       "<style scoped>\n",
       "    .dataframe tbody tr th:only-of-type {\n",
       "        vertical-align: middle;\n",
       "    }\n",
       "\n",
       "    .dataframe tbody tr th {\n",
       "        vertical-align: top;\n",
       "    }\n",
       "\n",
       "    .dataframe thead th {\n",
       "        text-align: right;\n",
       "    }\n",
       "</style>\n",
       "<table border=\"1\" class=\"dataframe\">\n",
       "  <thead>\n",
       "    <tr style=\"text-align: right;\">\n",
       "      <th></th>\n",
       "      <th>userId</th>\n",
       "      <th>movieId</th>\n",
       "    </tr>\n",
       "  </thead>\n",
       "  <tbody>\n",
       "    <tr>\n",
       "      <th>0</th>\n",
       "      <td>1</td>\n",
       "      <td>2011</td>\n",
       "    </tr>\n",
       "    <tr>\n",
       "      <th>1</th>\n",
       "      <td>1</td>\n",
       "      <td>4144</td>\n",
       "    </tr>\n",
       "    <tr>\n",
       "      <th>2</th>\n",
       "      <td>1</td>\n",
       "      <td>5767</td>\n",
       "    </tr>\n",
       "    <tr>\n",
       "      <th>3</th>\n",
       "      <td>1</td>\n",
       "      <td>6711</td>\n",
       "    </tr>\n",
       "    <tr>\n",
       "      <th>4</th>\n",
       "      <td>1</td>\n",
       "      <td>7318</td>\n",
       "    </tr>\n",
       "    <tr>\n",
       "      <th>...</th>\n",
       "      <td>...</td>\n",
       "      <td>...</td>\n",
       "    </tr>\n",
       "    <tr>\n",
       "      <th>5000014</th>\n",
       "      <td>162541</td>\n",
       "      <td>4079</td>\n",
       "    </tr>\n",
       "    <tr>\n",
       "      <th>5000015</th>\n",
       "      <td>162541</td>\n",
       "      <td>4467</td>\n",
       "    </tr>\n",
       "    <tr>\n",
       "      <th>5000016</th>\n",
       "      <td>162541</td>\n",
       "      <td>4980</td>\n",
       "    </tr>\n",
       "    <tr>\n",
       "      <th>5000017</th>\n",
       "      <td>162541</td>\n",
       "      <td>5689</td>\n",
       "    </tr>\n",
       "    <tr>\n",
       "      <th>5000018</th>\n",
       "      <td>162541</td>\n",
       "      <td>7153</td>\n",
       "    </tr>\n",
       "  </tbody>\n",
       "</table>\n",
       "<p>5000019 rows × 2 columns</p>\n",
       "</div>"
      ],
      "text/plain": [
       "         userId  movieId\n",
       "0             1     2011\n",
       "1             1     4144\n",
       "2             1     5767\n",
       "3             1     6711\n",
       "4             1     7318\n",
       "...         ...      ...\n",
       "5000014  162541     4079\n",
       "5000015  162541     4467\n",
       "5000016  162541     4980\n",
       "5000017  162541     5689\n",
       "5000018  162541     7153\n",
       "\n",
       "[5000019 rows x 2 columns]"
      ]
     },
     "execution_count": 29,
     "metadata": {},
     "output_type": "execute_result"
    }
   ],
   "source": [
    "df_test"
   ]
  },
  {
   "cell_type": "markdown",
   "id": "284286d7",
   "metadata": {},
   "source": [
    "## 4. Data preprocessing"
   ]
  },
  {
   "cell_type": "code",
   "execution_count": 30,
   "id": "89017ce9",
   "metadata": {},
   "outputs": [
    {
     "data": {
      "text/plain": [
       "movieId          0\n",
       "title_cast       0\n",
       "director         0\n",
       "runtime          0\n",
       "budget           0\n",
       "plot_keywords    0\n",
       "dtype: int64"
      ]
     },
     "execution_count": 30,
     "metadata": {},
     "output_type": "execute_result"
    }
   ],
   "source": [
    "# droping the null values from the imdb table\n",
    "df_imdb_data.dropna(inplace=True)\n",
    "df_imdb_data.isna().sum()"
   ]
  },
  {
   "cell_type": "code",
   "execution_count": 31,
   "id": "4d5174ee",
   "metadata": {},
   "outputs": [],
   "source": [
    "df_test['Id'] = df_test['userId'].astype(str)+'_'+df_test['movieId'].astype(str)"
   ]
  },
  {
   "cell_type": "code",
   "execution_count": 32,
   "id": "949f34ee",
   "metadata": {},
   "outputs": [
    {
     "data": {
      "text/html": [
       "<div>\n",
       "<style scoped>\n",
       "    .dataframe tbody tr th:only-of-type {\n",
       "        vertical-align: middle;\n",
       "    }\n",
       "\n",
       "    .dataframe tbody tr th {\n",
       "        vertical-align: top;\n",
       "    }\n",
       "\n",
       "    .dataframe thead th {\n",
       "        text-align: right;\n",
       "    }\n",
       "</style>\n",
       "<table border=\"1\" class=\"dataframe\">\n",
       "  <thead>\n",
       "    <tr style=\"text-align: right;\">\n",
       "      <th></th>\n",
       "      <th>userId</th>\n",
       "      <th>movieId</th>\n",
       "      <th>Id</th>\n",
       "    </tr>\n",
       "  </thead>\n",
       "  <tbody>\n",
       "    <tr>\n",
       "      <th>0</th>\n",
       "      <td>1</td>\n",
       "      <td>2011</td>\n",
       "      <td>1_2011</td>\n",
       "    </tr>\n",
       "    <tr>\n",
       "      <th>1</th>\n",
       "      <td>1</td>\n",
       "      <td>4144</td>\n",
       "      <td>1_4144</td>\n",
       "    </tr>\n",
       "    <tr>\n",
       "      <th>2</th>\n",
       "      <td>1</td>\n",
       "      <td>5767</td>\n",
       "      <td>1_5767</td>\n",
       "    </tr>\n",
       "    <tr>\n",
       "      <th>3</th>\n",
       "      <td>1</td>\n",
       "      <td>6711</td>\n",
       "      <td>1_6711</td>\n",
       "    </tr>\n",
       "    <tr>\n",
       "      <th>4</th>\n",
       "      <td>1</td>\n",
       "      <td>7318</td>\n",
       "      <td>1_7318</td>\n",
       "    </tr>\n",
       "    <tr>\n",
       "      <th>...</th>\n",
       "      <td>...</td>\n",
       "      <td>...</td>\n",
       "      <td>...</td>\n",
       "    </tr>\n",
       "    <tr>\n",
       "      <th>5000014</th>\n",
       "      <td>162541</td>\n",
       "      <td>4079</td>\n",
       "      <td>162541_4079</td>\n",
       "    </tr>\n",
       "    <tr>\n",
       "      <th>5000015</th>\n",
       "      <td>162541</td>\n",
       "      <td>4467</td>\n",
       "      <td>162541_4467</td>\n",
       "    </tr>\n",
       "    <tr>\n",
       "      <th>5000016</th>\n",
       "      <td>162541</td>\n",
       "      <td>4980</td>\n",
       "      <td>162541_4980</td>\n",
       "    </tr>\n",
       "    <tr>\n",
       "      <th>5000017</th>\n",
       "      <td>162541</td>\n",
       "      <td>5689</td>\n",
       "      <td>162541_5689</td>\n",
       "    </tr>\n",
       "    <tr>\n",
       "      <th>5000018</th>\n",
       "      <td>162541</td>\n",
       "      <td>7153</td>\n",
       "      <td>162541_7153</td>\n",
       "    </tr>\n",
       "  </tbody>\n",
       "</table>\n",
       "<p>5000019 rows × 3 columns</p>\n",
       "</div>"
      ],
      "text/plain": [
       "         userId  movieId           Id\n",
       "0             1     2011       1_2011\n",
       "1             1     4144       1_4144\n",
       "2             1     5767       1_5767\n",
       "3             1     6711       1_6711\n",
       "4             1     7318       1_7318\n",
       "...         ...      ...          ...\n",
       "5000014  162541     4079  162541_4079\n",
       "5000015  162541     4467  162541_4467\n",
       "5000016  162541     4980  162541_4980\n",
       "5000017  162541     5689  162541_5689\n",
       "5000018  162541     7153  162541_7153\n",
       "\n",
       "[5000019 rows x 3 columns]"
      ]
     },
     "execution_count": 32,
     "metadata": {},
     "output_type": "execute_result"
    }
   ],
   "source": [
    "# joining the two columns into one column Id\n",
    "df_test"
   ]
  },
  {
   "cell_type": "code",
   "execution_count": 33,
   "id": "fb035a9c",
   "metadata": {},
   "outputs": [],
   "source": [
    "del train_movies['Id']"
   ]
  },
  {
   "cell_type": "code",
   "execution_count": 34,
   "id": "085fde38",
   "metadata": {},
   "outputs": [],
   "source": [
    "movie_ratings = train_movies[['userId','movieId', 'rating', 'timestamp', 'title']]"
   ]
  },
  {
   "cell_type": "code",
   "execution_count": 35,
   "id": "5dc3be7d",
   "metadata": {},
   "outputs": [
    {
     "data": {
      "text/html": [
       "<div>\n",
       "<style scoped>\n",
       "    .dataframe tbody tr th:only-of-type {\n",
       "        vertical-align: middle;\n",
       "    }\n",
       "\n",
       "    .dataframe tbody tr th {\n",
       "        vertical-align: top;\n",
       "    }\n",
       "\n",
       "    .dataframe thead th {\n",
       "        text-align: right;\n",
       "    }\n",
       "</style>\n",
       "<table border=\"1\" class=\"dataframe\">\n",
       "  <thead>\n",
       "    <tr style=\"text-align: right;\">\n",
       "      <th></th>\n",
       "      <th>userId</th>\n",
       "      <th>movieId</th>\n",
       "      <th>rating</th>\n",
       "      <th>timestamp</th>\n",
       "      <th>title</th>\n",
       "    </tr>\n",
       "  </thead>\n",
       "  <tbody>\n",
       "    <tr>\n",
       "      <th>7332160</th>\n",
       "      <td>1</td>\n",
       "      <td>6370</td>\n",
       "      <td>4.5</td>\n",
       "      <td>1147869191</td>\n",
       "      <td>Spanish Apartment, The (L'auberge espagnole) (...</td>\n",
       "    </tr>\n",
       "    <tr>\n",
       "      <th>7656830</th>\n",
       "      <td>1</td>\n",
       "      <td>6954</td>\n",
       "      <td>3.5</td>\n",
       "      <td>1147869150</td>\n",
       "      <td>Barbarian Invasions, The (Les invasions barbar...</td>\n",
       "    </tr>\n",
       "    <tr>\n",
       "      <th>8422356</th>\n",
       "      <td>1</td>\n",
       "      <td>27266</td>\n",
       "      <td>4.5</td>\n",
       "      <td>1147879365</td>\n",
       "      <td>2046 (2004)</td>\n",
       "    </tr>\n",
       "  </tbody>\n",
       "</table>\n",
       "</div>"
      ],
      "text/plain": [
       "         userId  movieId  rating   timestamp  \\\n",
       "7332160       1     6370     4.5  1147869191   \n",
       "7656830       1     6954     3.5  1147869150   \n",
       "8422356       1    27266     4.5  1147879365   \n",
       "\n",
       "                                                     title  \n",
       "7332160  Spanish Apartment, The (L'auberge espagnole) (...  \n",
       "7656830  Barbarian Invasions, The (Les invasions barbar...  \n",
       "8422356                                        2046 (2004)  "
      ]
     },
     "execution_count": 35,
     "metadata": {},
     "output_type": "execute_result"
    }
   ],
   "source": [
    "movie_ratings.head(3)"
   ]
  },
  {
   "cell_type": "code",
   "execution_count": 36,
   "id": "17950206",
   "metadata": {},
   "outputs": [
    {
     "name": "stdout",
     "output_type": "stream",
     "text": [
      "Number of ratings in dataset: 10000038\n"
     ]
    }
   ],
   "source": [
    "print (f'Number of ratings in dataset: {movie_ratings.shape[0]}')"
   ]
  },
  {
   "cell_type": "code",
   "execution_count": 37,
   "id": "5f2b0d17",
   "metadata": {},
   "outputs": [
    {
     "name": "stdout",
     "output_type": "stream",
     "text": [
      "Average rating in dataset: 3.5333951730983424\n"
     ]
    },
    {
     "data": {
      "image/png": "[encoded data removed]",
      "text/plain": [
       "<Figure size 720x360 with 1 Axes>"
      ]
     },
     "metadata": {},
     "output_type": "display_data"
    }
   ],
   "source": [
    "with sns.axes_style('white'):\n",
    "    g = sns.factorplot(\"rating\", data=movie_ratings, aspect=2.0,kind='count')\n",
    "    g.set_ylabels(\"Total number of ratings\")\n",
    "print (f'Average rating in dataset: {np.mean(movie_ratings[\"rating\"])}')"
   ]
  },
  {
   "cell_type": "code",
   "execution_count": 38,
   "id": "aab3db49",
   "metadata": {},
   "outputs": [
    {
     "data": {
      "text/html": [
       "<div>\n",
       "<style scoped>\n",
       "    .dataframe tbody tr th:only-of-type {\n",
       "        vertical-align: middle;\n",
       "    }\n",
       "\n",
       "    .dataframe tbody tr th {\n",
       "        vertical-align: top;\n",
       "    }\n",
       "\n",
       "    .dataframe thead th {\n",
       "        text-align: right;\n",
       "    }\n",
       "</style>\n",
       "<table border=\"1\" class=\"dataframe\">\n",
       "  <thead>\n",
       "    <tr style=\"text-align: right;\">\n",
       "      <th></th>\n",
       "      <th>movieId</th>\n",
       "      <th>title</th>\n",
       "      <th>genres</th>\n",
       "      <th>year</th>\n",
       "    </tr>\n",
       "  </thead>\n",
       "  <tbody>\n",
       "    <tr>\n",
       "      <th>0</th>\n",
       "      <td>1</td>\n",
       "      <td>Toy Story (1995)</td>\n",
       "      <td>Adventure,Animation,Children,Comedy,Fantasy</td>\n",
       "      <td>1995</td>\n",
       "    </tr>\n",
       "    <tr>\n",
       "      <th>1</th>\n",
       "      <td>2</td>\n",
       "      <td>Jumanji (1995)</td>\n",
       "      <td>Adventure,Children,Fantasy</td>\n",
       "      <td>1995</td>\n",
       "    </tr>\n",
       "    <tr>\n",
       "      <th>2</th>\n",
       "      <td>3</td>\n",
       "      <td>Grumpier Old Men (1995)</td>\n",
       "      <td>Comedy,Romance</td>\n",
       "      <td>1995</td>\n",
       "    </tr>\n",
       "    <tr>\n",
       "      <th>3</th>\n",
       "      <td>4</td>\n",
       "      <td>Waiting to Exhale (1995)</td>\n",
       "      <td>Comedy,Drama,Romance</td>\n",
       "      <td>1995</td>\n",
       "    </tr>\n",
       "    <tr>\n",
       "      <th>4</th>\n",
       "      <td>5</td>\n",
       "      <td>Father of the Bride Part II (1995)</td>\n",
       "      <td>Comedy</td>\n",
       "      <td>1995</td>\n",
       "    </tr>\n",
       "    <tr>\n",
       "      <th>...</th>\n",
       "      <td>...</td>\n",
       "      <td>...</td>\n",
       "      <td>...</td>\n",
       "      <td>...</td>\n",
       "    </tr>\n",
       "    <tr>\n",
       "      <th>62418</th>\n",
       "      <td>209157</td>\n",
       "      <td>We (2018)</td>\n",
       "      <td>Drama</td>\n",
       "      <td>2018</td>\n",
       "    </tr>\n",
       "    <tr>\n",
       "      <th>62419</th>\n",
       "      <td>209159</td>\n",
       "      <td>Window of the Soul (2001)</td>\n",
       "      <td>Documentary</td>\n",
       "      <td>2001</td>\n",
       "    </tr>\n",
       "    <tr>\n",
       "      <th>62420</th>\n",
       "      <td>209163</td>\n",
       "      <td>Bad Poems (2018)</td>\n",
       "      <td>Comedy,Drama</td>\n",
       "      <td>2018</td>\n",
       "    </tr>\n",
       "    <tr>\n",
       "      <th>62421</th>\n",
       "      <td>209169</td>\n",
       "      <td>A Girl Thing (2001)</td>\n",
       "      <td>(no genres listed)</td>\n",
       "      <td>2001</td>\n",
       "    </tr>\n",
       "    <tr>\n",
       "      <th>62422</th>\n",
       "      <td>209171</td>\n",
       "      <td>Women of Devil's Island (1962)</td>\n",
       "      <td>Action,Adventure,Drama</td>\n",
       "      <td>1962</td>\n",
       "    </tr>\n",
       "  </tbody>\n",
       "</table>\n",
       "<p>62423 rows × 4 columns</p>\n",
       "</div>"
      ],
      "text/plain": [
       "       movieId                               title  \\\n",
       "0            1                    Toy Story (1995)   \n",
       "1            2                      Jumanji (1995)   \n",
       "2            3             Grumpier Old Men (1995)   \n",
       "3            4            Waiting to Exhale (1995)   \n",
       "4            5  Father of the Bride Part II (1995)   \n",
       "...        ...                                 ...   \n",
       "62418   209157                           We (2018)   \n",
       "62419   209159           Window of the Soul (2001)   \n",
       "62420   209163                    Bad Poems (2018)   \n",
       "62421   209169                 A Girl Thing (2001)   \n",
       "62422   209171      Women of Devil's Island (1962)   \n",
       "\n",
       "                                            genres  year  \n",
       "0      Adventure,Animation,Children,Comedy,Fantasy  1995  \n",
       "1                       Adventure,Children,Fantasy  1995  \n",
       "2                                   Comedy,Romance  1995  \n",
       "3                             Comedy,Drama,Romance  1995  \n",
       "4                                           Comedy  1995  \n",
       "...                                            ...   ...  \n",
       "62418                                        Drama  2018  \n",
       "62419                                  Documentary  2001  \n",
       "62420                                 Comedy,Drama  2018  \n",
       "62421                           (no genres listed)  2001  \n",
       "62422                       Action,Adventure,Drama  1962  \n",
       "\n",
       "[62423 rows x 4 columns]"
      ]
     },
     "execution_count": 38,
     "metadata": {},
     "output_type": "execute_result"
    }
   ],
   "source": [
    "df_movies"
   ]
  },
  {
   "cell_type": "code",
   "execution_count": 39,
   "id": "505b9d8a",
   "metadata": {},
   "outputs": [],
   "source": [
    "# Convienient indexes to map between book titles and indexes of \n",
    "# the books dataframe\n",
    "titles = df_movies['title']\n",
    "indices = pd.Series(df_movies.index, index=df_movies['title'])"
   ]
  },
  {
   "cell_type": "code",
   "execution_count": 40,
   "id": "70a09162",
   "metadata": {},
   "outputs": [],
   "source": [
    "imdb_movies= pd.merge(df_movies, df_imdb_data , on='movieId')"
   ]
  },
  {
   "cell_type": "code",
   "execution_count": 41,
   "id": "eaa8a22b",
   "metadata": {},
   "outputs": [
    {
     "data": {
      "text/html": [
       "<div>\n",
       "<style scoped>\n",
       "    .dataframe tbody tr th:only-of-type {\n",
       "        vertical-align: middle;\n",
       "    }\n",
       "\n",
       "    .dataframe tbody tr th {\n",
       "        vertical-align: top;\n",
       "    }\n",
       "\n",
       "    .dataframe thead th {\n",
       "        text-align: right;\n",
       "    }\n",
       "</style>\n",
       "<table border=\"1\" class=\"dataframe\">\n",
       "  <thead>\n",
       "    <tr style=\"text-align: right;\">\n",
       "      <th></th>\n",
       "      <th>movieId</th>\n",
       "      <th>title</th>\n",
       "      <th>genres</th>\n",
       "      <th>year</th>\n",
       "      <th>title_cast</th>\n",
       "      <th>director</th>\n",
       "      <th>runtime</th>\n",
       "      <th>budget</th>\n",
       "      <th>plot_keywords</th>\n",
       "    </tr>\n",
       "  </thead>\n",
       "  <tbody>\n",
       "    <tr>\n",
       "      <th>0</th>\n",
       "      <td>1</td>\n",
       "      <td>Toy Story (1995)</td>\n",
       "      <td>Adventure,Animation,Children,Comedy,Fantasy</td>\n",
       "      <td>1995</td>\n",
       "      <td>Tom Hanks,Tim Allen,Don Rickles,Jim Varney,Wal...</td>\n",
       "      <td>John Lasseter</td>\n",
       "      <td>81.0</td>\n",
       "      <td>$30,000,000</td>\n",
       "      <td>toy,rivalry,cowboy,cgi animation</td>\n",
       "    </tr>\n",
       "    <tr>\n",
       "      <th>1</th>\n",
       "      <td>2</td>\n",
       "      <td>Jumanji (1995)</td>\n",
       "      <td>Adventure,Children,Fantasy</td>\n",
       "      <td>1995</td>\n",
       "      <td>Robin Williams,Jonathan Hyde,Kirsten Dunst,Bra...</td>\n",
       "      <td>Jonathan Hensleigh</td>\n",
       "      <td>104.0</td>\n",
       "      <td>$65,000,000</td>\n",
       "      <td>board game,adventurer,fight,game</td>\n",
       "    </tr>\n",
       "    <tr>\n",
       "      <th>2</th>\n",
       "      <td>3</td>\n",
       "      <td>Grumpier Old Men (1995)</td>\n",
       "      <td>Comedy,Romance</td>\n",
       "      <td>1995</td>\n",
       "      <td>Walter Matthau,Jack Lemmon,Sophia Loren,Ann-Ma...</td>\n",
       "      <td>Mark Steven Johnson</td>\n",
       "      <td>101.0</td>\n",
       "      <td>$25,000,000</td>\n",
       "      <td>boat,lake,neighbor,rivalry</td>\n",
       "    </tr>\n",
       "  </tbody>\n",
       "</table>\n",
       "</div>"
      ],
      "text/plain": [
       "   movieId                    title  \\\n",
       "0        1         Toy Story (1995)   \n",
       "1        2           Jumanji (1995)   \n",
       "2        3  Grumpier Old Men (1995)   \n",
       "\n",
       "                                        genres  year  \\\n",
       "0  Adventure,Animation,Children,Comedy,Fantasy  1995   \n",
       "1                   Adventure,Children,Fantasy  1995   \n",
       "2                               Comedy,Romance  1995   \n",
       "\n",
       "                                          title_cast             director  \\\n",
       "0  Tom Hanks,Tim Allen,Don Rickles,Jim Varney,Wal...        John Lasseter   \n",
       "1  Robin Williams,Jonathan Hyde,Kirsten Dunst,Bra...   Jonathan Hensleigh   \n",
       "2  Walter Matthau,Jack Lemmon,Sophia Loren,Ann-Ma...  Mark Steven Johnson   \n",
       "\n",
       "   runtime       budget                     plot_keywords  \n",
       "0     81.0  $30,000,000  toy,rivalry,cowboy,cgi animation  \n",
       "1    104.0  $65,000,000  board game,adventurer,fight,game  \n",
       "2    101.0  $25,000,000        boat,lake,neighbor,rivalry  "
      ]
     },
     "execution_count": 41,
     "metadata": {},
     "output_type": "execute_result"
    }
   ],
   "source": [
    "imdb_movies.head(3)"
   ]
  },
  {
   "cell_type": "code",
   "execution_count": 42,
   "id": "eaff5abd",
   "metadata": {},
   "outputs": [],
   "source": [
    "imdb_movies['director_key'] = (pd.Series(imdb_movies[['director', 'plot_keywords']]\n",
    "                      .fillna('')\n",
    "                      .values.tolist()).str.join(' '))\n",
    "\n",
    "# Convienient indexes to map between book titles and indexes of \n",
    "# the books dataframe\n",
    "titles = imdb_movies['title']\n",
    "indices = pd.Series(imdb_movies.index, index=imdb_movies['title'])"
   ]
  },
  {
   "cell_type": "code",
   "execution_count": 43,
   "id": "1e5416d9",
   "metadata": {},
   "outputs": [],
   "source": [
    "tf = TfidfVectorizer(analyzer='word', ngram_range=(1,2),\n",
    "                     min_df=0, stop_words='english')\n",
    "\n",
    "# Produce a feature matrix, where each row corresponds to a book,\n",
    "# with TF-IDF features as columns \n",
    "tf_directorKey_matrix = tf.fit_transform(imdb_movies['director_key'])"
   ]
  },
  {
   "cell_type": "code",
   "execution_count": 44,
   "id": "9b68c794",
   "metadata": {},
   "outputs": [
    {
     "name": "stdout",
     "output_type": "stream",
     "text": [
      "(6493, 6493)\n"
     ]
    }
   ],
   "source": [
    "cosine_sim_directorKey = cosine_similarity(tf_directorKey_matrix,\n",
    "                                        tf_directorKey_matrix)\n",
    "print (cosine_sim_directorKey.shape)"
   ]
  },
  {
   "cell_type": "code",
   "execution_count": 45,
   "id": "faf6f798",
   "metadata": {},
   "outputs": [
    {
     "data": {
      "text/plain": [
       "array([[1.        , 0.        , 0.06336834, ..., 0.        , 0.        ,\n",
       "        0.        ],\n",
       "       [0.        , 1.        , 0.        , ..., 0.        , 0.        ,\n",
       "        0.        ],\n",
       "       [0.06336834, 0.        , 1.        , ..., 0.        , 0.        ,\n",
       "        0.        ],\n",
       "       [0.        , 0.        , 0.        , ..., 0.        , 0.        ,\n",
       "        0.        ],\n",
       "       [0.        , 0.        , 0.        , ..., 0.        , 0.        ,\n",
       "        0.        ]])"
      ]
     },
     "execution_count": 45,
     "metadata": {},
     "output_type": "execute_result"
    }
   ],
   "source": [
    "cosine_sim_directorKey[:5]"
   ]
  },
  {
   "cell_type": "markdown",
   "id": "1b97770d",
   "metadata": {},
   "source": [
    "## 5. Model deployment"
   ]
  },
  {
   "cell_type": "markdown",
   "id": "cfc39918",
   "metadata": {},
   "source": [
    "### Content base filtering"
   ]
  },
  {
   "cell_type": "code",
   "execution_count": 46,
   "id": "b0857696",
   "metadata": {},
   "outputs": [],
   "source": [
    "def content_generate_top_N_recommendations(movie_title, N=10):\n",
    "    # Convert the string book title to a numeric index for our \n",
    "    # similarity matrix\n",
    "    m_idx = indices[movie_title]\n",
    "    # Extract all similarity values computed with the reference book title\n",
    "    sim_scores = list(enumerate(cosine_sim_directorKey[m_idx]))\n",
    "    # Sort the values, keeping a copy of the original index of each value\n",
    "    sim_scores = sorted(sim_scores, key=lambda x: x[1], reverse=True)\n",
    "    # Select the top-N values for recommendation\n",
    "    sim_scores = sim_scores[1:N]\n",
    "    # Collect indexes \n",
    "    movie_indices = [i[0] for i in sim_scores]\n",
    "    # Convert the indexes back into titles \n",
    "    return titles.iloc[movie_indices]"
   ]
  },
  {
   "cell_type": "code",
   "execution_count": 47,
   "id": "87732572",
   "metadata": {},
   "outputs": [
    {
     "data": {
      "text/plain": [
       "4447                          Toy Story 3 (2010)\n",
       "1123                          Toy Story 2 (1999)\n",
       "5596                               Planes (2013)\n",
       "3757                         Space Chimps (2008)\n",
       "6485                  Ronal the Barbarian (2011)\n",
       "3282                 Happily N'Ever After (2007)\n",
       "3484    Tekkonkinkreet (Tekkon kinkurîto) (2006)\n",
       "4210                    Fantastic Mr. Fox (2009)\n",
       "4673                     Cowboys & Aliens (2011)\n",
       "Name: title, dtype: object"
      ]
     },
     "execution_count": 47,
     "metadata": {},
     "output_type": "execute_result"
    }
   ],
   "source": [
    "content_generate_top_N_recommendations(\"Toy Story (1995)\", N=10)"
   ]
  },
  {
   "cell_type": "code",
   "execution_count": 48,
   "id": "b345fd57",
   "metadata": {},
   "outputs": [
    {
     "data": {
      "text/plain": [
       "1730                        White Fang (1991)\n",
       "2158                         Good Boy! (2003)\n",
       "16      Ace Ventura: When Nature Calls (1995)\n",
       "4987         12 Dogs of Christmas, The (2005)\n",
       "3884           Beverly Hills Chihuahua (2008)\n",
       "4212                           Top Dog (1995)\n",
       "3432                 A Dog's Breakfast (2007)\n",
       "5879                             Rio 2 (2014)\n",
       "2134                   Beethoven's 2nd (1993)\n",
       "Name: title, dtype: object"
      ]
     },
     "execution_count": 48,
     "metadata": {},
     "output_type": "execute_result"
    }
   ],
   "source": [
    "content_generate_top_N_recommendations(\"Ace Ventura: Pet Detective (1994)\", N=10)"
   ]
  },
  {
   "cell_type": "code",
   "execution_count": 49,
   "id": "0f2108ce",
   "metadata": {},
   "outputs": [
    {
     "data": {
      "text/plain": [
       "2709                                    Elektra (2005)\n",
       "891                                  Jack Frost (1998)\n",
       "3313                                Ghost Rider (2007)\n",
       "52                                    Big Bully (1996)\n",
       "829                                 Simon Birch (1998)\n",
       "1958                                  Daredevil (2003)\n",
       "5715         Christmas Party, The (Joulubileet) (1996)\n",
       "1771    Crocodile Hunter: Collision Course, The (2002)\n",
       "1569                     Two Can Play That Game (2001)\n",
       "Name: title, dtype: object"
      ]
     },
     "execution_count": 49,
     "metadata": {},
     "output_type": "execute_result"
    }
   ],
   "source": [
    "content_generate_top_N_recommendations(\"Grumpier Old Men (1995)\", N=10)"
   ]
  },
  {
   "cell_type": "code",
   "execution_count": 50,
   "id": "e604905b",
   "metadata": {},
   "outputs": [],
   "source": [
    "def content_generate_rating_estimate(movie_title, user, rating_data, k=20, threshold=0.0):\n",
    "    # Convert the book title to a numeric index for our \n",
    "    # similarity matrix\n",
    "    m_idx = indices[movie_title]\n",
    "    neighbors = [] # <-- Stores our collection of similarity values \n",
    "\n",
    "    # Gather the similarity ratings between each movie the user has rated\n",
    "    # and the reference movie \n",
    "    for index, row in rating_data[rating_data['userId']==user].iterrows():\n",
    "        sim = cosine_sim_directorKey[m_idx-1, indices[row['title']]-1]\n",
    "        neighbors.append((sim, row['rating']))\n",
    "    # Select the top-N values from our collection\n",
    "    k_neighbors = heapq.nlargest(k, neighbors, key=lambda t: t[0])\n",
    "\n",
    "    # Compute the weighted average using similarity scores and \n",
    "    # user item ratings. \n",
    "    simTotal, weightedSum = 0, 0\n",
    "    for (simScore, rating) in k_neighbors:\n",
    "        # Ensure that similarity ratings are above a given threshold\n",
    "        if (simScore > threshold):\n",
    "            simTotal += simScore\n",
    "            weightedSum += simScore * rating\n",
    "    try:\n",
    "        predictedRating = weightedSum / simTotal\n",
    "    except ZeroDivisionError:\n",
    "        # Cold-start problem - No ratings given by user. \n",
    "        # We use the average rating for the reference item as a proxy in this case \n",
    "        predictedRating = np.mean(rating_data[rating_data['title']==movie_title]['rating'])\n",
    "    return predictedRating"
   ]
  },
  {
   "cell_type": "code",
   "execution_count": 51,
   "id": "545365b5",
   "metadata": {
    "scrolled": true
   },
   "outputs": [
    {
     "data": {
      "text/html": [
       "<div>\n",
       "<style scoped>\n",
       "    .dataframe tbody tr th:only-of-type {\n",
       "        vertical-align: middle;\n",
       "    }\n",
       "\n",
       "    .dataframe tbody tr th {\n",
       "        vertical-align: top;\n",
       "    }\n",
       "\n",
       "    .dataframe thead th {\n",
       "        text-align: right;\n",
       "    }\n",
       "</style>\n",
       "<table border=\"1\" class=\"dataframe\">\n",
       "  <thead>\n",
       "    <tr style=\"text-align: right;\">\n",
       "      <th></th>\n",
       "      <th>userId</th>\n",
       "      <th>movieId</th>\n",
       "      <th>rating</th>\n",
       "      <th>timestamp</th>\n",
       "      <th>title</th>\n",
       "    </tr>\n",
       "  </thead>\n",
       "  <tbody>\n",
       "    <tr>\n",
       "      <th>6213738</th>\n",
       "      <td>314</td>\n",
       "      <td>383</td>\n",
       "      <td>4.0</td>\n",
       "      <td>843576295</td>\n",
       "      <td>Wyatt Earp (1994)</td>\n",
       "    </tr>\n",
       "    <tr>\n",
       "      <th>7952906</th>\n",
       "      <td>314</td>\n",
       "      <td>252</td>\n",
       "      <td>4.0</td>\n",
       "      <td>843573423</td>\n",
       "      <td>I.Q. (1994)</td>\n",
       "    </tr>\n",
       "    <tr>\n",
       "      <th>5541843</th>\n",
       "      <td>314</td>\n",
       "      <td>515</td>\n",
       "      <td>3.0</td>\n",
       "      <td>843574119</td>\n",
       "      <td>Remains of the Day, The (1993)</td>\n",
       "    </tr>\n",
       "    <tr>\n",
       "      <th>6139386</th>\n",
       "      <td>314</td>\n",
       "      <td>552</td>\n",
       "      <td>3.0</td>\n",
       "      <td>843575928</td>\n",
       "      <td>Three Musketeers, The (1993)</td>\n",
       "    </tr>\n",
       "    <tr>\n",
       "      <th>1417860</th>\n",
       "      <td>314</td>\n",
       "      <td>457</td>\n",
       "      <td>5.0</td>\n",
       "      <td>843572769</td>\n",
       "      <td>Fugitive, The (1993)</td>\n",
       "    </tr>\n",
       "    <tr>\n",
       "      <th>3060312</th>\n",
       "      <td>314</td>\n",
       "      <td>780</td>\n",
       "      <td>3.0</td>\n",
       "      <td>843573735</td>\n",
       "      <td>Independence Day (a.k.a. ID4) (1996)</td>\n",
       "    </tr>\n",
       "    <tr>\n",
       "      <th>3897860</th>\n",
       "      <td>314</td>\n",
       "      <td>454</td>\n",
       "      <td>4.0</td>\n",
       "      <td>843572913</td>\n",
       "      <td>Firm, The (1993)</td>\n",
       "    </tr>\n",
       "    <tr>\n",
       "      <th>5359985</th>\n",
       "      <td>314</td>\n",
       "      <td>153</td>\n",
       "      <td>4.0</td>\n",
       "      <td>843572732</td>\n",
       "      <td>Batman Forever (1995)</td>\n",
       "    </tr>\n",
       "    <tr>\n",
       "      <th>7228898</th>\n",
       "      <td>314</td>\n",
       "      <td>168</td>\n",
       "      <td>4.0</td>\n",
       "      <td>843573572</td>\n",
       "      <td>First Knight (1995)</td>\n",
       "    </tr>\n",
       "  </tbody>\n",
       "</table>\n",
       "</div>"
      ],
      "text/plain": [
       "         userId  movieId  rating  timestamp  \\\n",
       "6213738     314      383     4.0  843576295   \n",
       "7952906     314      252     4.0  843573423   \n",
       "5541843     314      515     3.0  843574119   \n",
       "6139386     314      552     3.0  843575928   \n",
       "1417860     314      457     5.0  843572769   \n",
       "3060312     314      780     3.0  843573735   \n",
       "3897860     314      454     4.0  843572913   \n",
       "5359985     314      153     4.0  843572732   \n",
       "7228898     314      168     4.0  843573572   \n",
       "\n",
       "                                        title  \n",
       "6213738                     Wyatt Earp (1994)  \n",
       "7952906                           I.Q. (1994)  \n",
       "5541843        Remains of the Day, The (1993)  \n",
       "6139386          Three Musketeers, The (1993)  \n",
       "1417860                  Fugitive, The (1993)  \n",
       "3060312  Independence Day (a.k.a. ID4) (1996)  \n",
       "3897860                      Firm, The (1993)  \n",
       "5359985                 Batman Forever (1995)  \n",
       "7228898                   First Knight (1995)  "
      ]
     },
     "execution_count": 51,
     "metadata": {},
     "output_type": "execute_result"
    }
   ],
   "source": [
    "# Subset of ratings from user 314\n",
    "movie_ratings[movie_ratings['userId'] == 314][1:10]"
   ]
  },
  {
   "cell_type": "code",
   "execution_count": 52,
   "id": "d7541243",
   "metadata": {},
   "outputs": [],
   "source": [
    "#title = \"Remains of the Day, The (1993)\"\n",
    "#actual_rating = movie_ratings[(movie_ratings['userId'] == 314) & (movie_ratings['title'] == title)]['rating'].values[:]\n",
    "#pred_rating = content_generate_rating_estimate(movie_title=title, user=314, rating_data=movie_ratings)\n",
    "#print (f\"Title - {title}\")\n",
    "#print (\"---\")\n",
    "#print (f\"Actual rating: \\t\\t {actual_rating}\")\n",
    "#print (f\"Predicted rating: \\t {pred_rating}\")"
   ]
  },
  {
   "cell_type": "markdown",
   "id": "e26d4801",
   "metadata": {},
   "source": [
    "### Collaborative base filtering"
   ]
  },
  {
   "cell_type": "code",
   "execution_count": 56,
   "id": "2cee8560",
   "metadata": {},
   "outputs": [],
   "source": [
    "movie_rate=movie_ratings[['rating', 'userId', 'movieId', 'timestamp']]"
   ]
  },
  {
   "cell_type": "code",
   "execution_count": 57,
   "id": "07599383",
   "metadata": {},
   "outputs": [],
   "source": [
    "# Scaling the movies_df\n",
    "# declare the features to be all columns from our movies_df\n",
    "features = [col for col in movie_rate.columns]\n",
    "\n",
    "# create scaler object\n",
    "scaler = StandardScaler()\n",
    "\n",
    "# define scaled data frame variable\n",
    "scaled_df = pd.read_csv('train.csv')\n",
    "scaled_df[features] = preprocessing.scale(scaled_df[features])"
   ]
  },
  {
   "cell_type": "code",
   "execution_count": 58,
   "id": "710c0374",
   "metadata": {},
   "outputs": [
    {
     "data": {
      "text/plain": [
       "Text(0, 0.5, 'Cumulative explained variance')"
      ]
     },
     "execution_count": 58,
     "metadata": {},
     "output_type": "execute_result"
    },
    {
     "data": {
      "image/png": "[encoded data removed]",
      "text/plain": [
       "<Figure size 936x936 with 1 Axes>"
      ]
     },
     "metadata": {},
     "output_type": "display_data"
    }
   ],
   "source": [
    "# define PCA object\n",
    "pca = PCA()\n",
    "\n",
    "# fit the PCA model to our data and apply the dimensionality reduction \n",
    "prin_comp = pca.fit_transform(scaled_df[features])\n",
    "\n",
    "# create a dataframe containing the principal components\n",
    "pca_df = pd.DataFrame(data = prin_comp)\n",
    "\n",
    "\n",
    "\n",
    "# plot line graph of cumulative variance explained\n",
    "plt.plot(np.cumsum(pca.explained_variance_ratio_))\n",
    "plt.xlabel('Number of components')\n",
    "plt.ylabel('Cumulative explained variance')"
   ]
  },
  {
   "cell_type": "code",
   "execution_count": 59,
   "id": "9f930ef9",
   "metadata": {},
   "outputs": [
    {
     "name": "stdout",
     "output_type": "stream",
     "text": [
      "88.0 % of variance explained by 3 components.\n"
     ]
    }
   ],
   "source": [
    "pca_85 = PCA(.85)\n",
    "pca_85.fit_transform(scaled_df[features])\n",
    "print(round(pca_85.explained_variance_ratio_.sum()*100, 1),\n",
    "      \"% of variance explained by\",\n",
    "      pca_85.n_components_,\n",
    "      \"components.\")"
   ]
  },
  {
   "cell_type": "code",
   "execution_count": 60,
   "id": "3b47ac04",
   "metadata": {},
   "outputs": [
    {
     "data": {
      "text/plain": [
       "array([0.3802045 , 0.25060905, 0.24947369])"
      ]
     },
     "execution_count": 60,
     "metadata": {},
     "output_type": "execute_result"
    }
   ],
   "source": [
    "pca.explained_variance_ratio_[:3]"
   ]
  },
  {
   "cell_type": "code",
   "execution_count": 61,
   "id": "fc69562b",
   "metadata": {},
   "outputs": [],
   "source": [
    "# exclude non-features from data\n",
    "reg_data = scaled_df[features]\n",
    "\n",
    "# set aside response variable (Unscaled!)\n",
    "reg_response = movie_rate[\"rating\"]\n",
    "\n",
    "# drop response variable\n",
    "reg_data = reg_data.drop(['rating'], 1)"
   ]
  },
  {
   "cell_type": "code",
   "execution_count": 62,
   "id": "8807b7c4",
   "metadata": {},
   "outputs": [],
   "source": [
    "X_train, X_test, y_train, y_test = train_test_split(reg_data, reg_response, test_size=0.2)"
   ]
  },
  {
   "cell_type": "code",
   "execution_count": 63,
   "id": "e33bade4",
   "metadata": {},
   "outputs": [
    {
     "data": {
      "text/plain": [
       "2"
      ]
     },
     "execution_count": 63,
     "metadata": {},
     "output_type": "execute_result"
    }
   ],
   "source": [
    "# create PCA object with n_components set to 2\n",
    "pca_reg = PCA(n_components=2)\n",
    "\n",
    "# fit the PCA model to our data and apply the dimensionality reduction \n",
    "X_train = pca_reg.fit_transform(X_train)\n",
    "\n",
    "# confirm the number of components\n",
    "pca_reg.n_components_"
   ]
  },
  {
   "cell_type": "code",
   "execution_count": 64,
   "id": "e280a83f",
   "metadata": {},
   "outputs": [
    {
     "data": {
      "text/plain": [
       "0.8402548965054927"
      ]
     },
     "execution_count": 64,
     "metadata": {},
     "output_type": "execute_result"
    }
   ],
   "source": [
    "pca_reg.explained_variance_ratio_.sum()"
   ]
  },
  {
   "cell_type": "code",
   "execution_count": 65,
   "id": "cc082309",
   "metadata": {},
   "outputs": [
    {
     "name": "stdout",
     "output_type": "stream",
     "text": [
      "Evaluating RMSE, MAE of algorithm SVD on 5 split(s).\n",
      "\n",
      "                  Fold 1  Fold 2  Fold 3  Fold 4  Fold 5  Mean    Std     \n",
      "RMSE (testset)    0.9342  0.9413  0.9363  0.9320  0.9401  0.9368  0.0035  \n",
      "MAE (testset)     0.7349  0.7433  0.7384  0.7337  0.7414  0.7383  0.0037  \n",
      "Fit time          3.76    3.69    3.70    6.36    3.81    4.27    1.05    \n",
      "Test time         0.18    0.11    1.59    0.12    0.12    0.42    0.58    \n"
     ]
    },
    {
     "data": {
      "text/plain": [
       "{'test_rmse': array([0.93423617, 0.94126997, 0.93633294, 0.93200887, 0.94006732]),\n",
       " 'test_mae': array([0.73491078, 0.74325548, 0.73835885, 0.73365918, 0.74135701]),\n",
       " 'fit_time': (3.7592215538024902,\n",
       "  3.6940886974334717,\n",
       "  3.7023775577545166,\n",
       "  6.363295316696167,\n",
       "  3.808736562728882),\n",
       " 'test_time': (0.18114495277404785,\n",
       "  0.10691618919372559,\n",
       "  1.5910625457763672,\n",
       "  0.12048721313476562,\n",
       "  0.12001204490661621)}"
      ]
     },
     "execution_count": 65,
     "metadata": {},
     "output_type": "execute_result"
    }
   ],
   "source": [
    "from surprise import SVD\n",
    "from surprise import Dataset\n",
    "from surprise.model_selection import cross_validate\n",
    "\n",
    "\n",
    "# Load the movielens-100k dataset (download it if needed),\n",
    "data = Dataset.load_builtin('ml-100k')\n",
    "\n",
    "# We'll use the SVD algorithm.\n",
    "algo = SVD()\n",
    "\n",
    "# Run 5-fold cross-validation and print results for smaller movie dataset\n",
    "cross_validate(algo, data, measures=['RMSE', 'MAE'], cv=5, verbose=True)"
   ]
  },
  {
   "cell_type": "code",
   "execution_count": 66,
   "id": "5e707eea",
   "metadata": {},
   "outputs": [],
   "source": [
    "from surprise import SVD\n",
    "from surprise import Dataset\n",
    "from surprise.model_selection import cross_validate\n",
    "\n",
    "#our training data\n",
    "df = pd.DataFrame(movie_rate)\n",
    "del df['timestamp']\n",
    "\n",
    "\n",
    "# A reader is still needed but only the rating_scale param is requiered.\n",
    "reader = Reader(rating_scale=(0, 5))\n",
    "\n",
    "# The columns must correspond to user id, item id and ratings (in that order).\n",
    "data = Dataset.load_from_df(movie_rate[['userId', 'movieId', 'rating']], reader)"
   ]
  },
  {
   "cell_type": "code",
   "execution_count": 67,
   "id": "1e8951b0",
   "metadata": {},
   "outputs": [
    {
     "data": {
      "text/plain": [
       "<surprise.prediction_algorithms.matrix_factorization.SVD at 0x2030604b9a0>"
      ]
     },
     "execution_count": 67,
     "metadata": {},
     "output_type": "execute_result"
    }
   ],
   "source": [
    "#packages we need\n",
    "from surprise import accuracy\n",
    "from surprise.model_selection import train_test_split\n",
    "\n",
    "#allows us to train on the whole dataset\n",
    "trainset = data.build_full_trainset()\n",
    "\n",
    "#SVD algorithm.\n",
    "algo = SVD()\n",
    "\n",
    "# Train the algorithm on the trainset, and predict ratings for the testset\n",
    "algo.fit(trainset)"
   ]
  },
  {
   "cell_type": "code",
   "execution_count": 68,
   "id": "266b3bd7",
   "metadata": {},
   "outputs": [
    {
     "name": "stdout",
     "output_type": "stream",
     "text": [
      "RMSE: 0.8375\n"
     ]
    },
    {
     "data": {
      "text/plain": [
       "0.837537352039775"
      ]
     },
     "execution_count": 68,
     "metadata": {},
     "output_type": "execute_result"
    }
   ],
   "source": [
    "# sample random trainset and testset\n",
    "# test set is made of 25% of the ratings.\n",
    "trainset, testset = train_test_split(data, test_size=.25)\n",
    "\n",
    "# We'll use the SVD algorithm.\n",
    "algo2 = SVD()\n",
    "\n",
    "# Train the algorithm on the trainset, and predict ratings for the testset\n",
    "algo2.fit(trainset)\n",
    "predictions = algo2.test(testset)\n",
    "\n",
    "# Compute RMSE\n",
    "accuracy.rmse(predictions)"
   ]
  },
  {
   "cell_type": "code",
   "execution_count": 69,
   "id": "a1f4134a",
   "metadata": {},
   "outputs": [
    {
     "data": {
      "text/html": [
       "<div>\n",
       "<style scoped>\n",
       "    .dataframe tbody tr th:only-of-type {\n",
       "        vertical-align: middle;\n",
       "    }\n",
       "\n",
       "    .dataframe tbody tr th {\n",
       "        vertical-align: top;\n",
       "    }\n",
       "\n",
       "    .dataframe thead th {\n",
       "        text-align: right;\n",
       "    }\n",
       "</style>\n",
       "<table border=\"1\" class=\"dataframe\">\n",
       "  <thead>\n",
       "    <tr style=\"text-align: right;\">\n",
       "      <th></th>\n",
       "      <th>userId</th>\n",
       "      <th>movieId</th>\n",
       "      <th>Id</th>\n",
       "      <th>rating</th>\n",
       "    </tr>\n",
       "  </thead>\n",
       "  <tbody>\n",
       "    <tr>\n",
       "      <th>0</th>\n",
       "      <td>1</td>\n",
       "      <td>2011</td>\n",
       "      <td>1_2011</td>\n",
       "      <td>0</td>\n",
       "    </tr>\n",
       "    <tr>\n",
       "      <th>1</th>\n",
       "      <td>1</td>\n",
       "      <td>4144</td>\n",
       "      <td>1_4144</td>\n",
       "      <td>0</td>\n",
       "    </tr>\n",
       "    <tr>\n",
       "      <th>2</th>\n",
       "      <td>1</td>\n",
       "      <td>5767</td>\n",
       "      <td>1_5767</td>\n",
       "      <td>0</td>\n",
       "    </tr>\n",
       "    <tr>\n",
       "      <th>3</th>\n",
       "      <td>1</td>\n",
       "      <td>6711</td>\n",
       "      <td>1_6711</td>\n",
       "      <td>0</td>\n",
       "    </tr>\n",
       "    <tr>\n",
       "      <th>4</th>\n",
       "      <td>1</td>\n",
       "      <td>7318</td>\n",
       "      <td>1_7318</td>\n",
       "      <td>0</td>\n",
       "    </tr>\n",
       "  </tbody>\n",
       "</table>\n",
       "</div>"
      ],
      "text/plain": [
       "   userId  movieId      Id  rating\n",
       "0       1     2011  1_2011       0\n",
       "1       1     4144  1_4144       0\n",
       "2       1     5767  1_5767       0\n",
       "3       1     6711  1_6711       0\n",
       "4       1     7318  1_7318       0"
      ]
     },
     "execution_count": 69,
     "metadata": {},
     "output_type": "execute_result"
    }
   ],
   "source": [
    "df_test.loc[:, 'rating'] = 0\n",
    "df_test.head()"
   ]
  },
  {
   "cell_type": "code",
   "execution_count": 70,
   "id": "de7f6c76",
   "metadata": {},
   "outputs": [],
   "source": [
    "#using load_from_df surprise function to load dataset for predictions\n",
    "test_processed = Dataset.load_from_df(df_test[['userId','movieId','rating']], reader)\n",
    "\n",
    "#Train test split, test size will be equal to 1.\n",
    "NA, test = train_test_split(test_processed, test_size=1.0, shuffle = False, random_state = 42)\n",
    "\n",
    "#Prediction \n",
    "predictions = algo.test(test)"
   ]
  }
 ],
 "metadata": {
  "kernelspec": {
   "display_name": "Python 3 (ipykernel)",
   "language": "python",
   "name": "python3"
  },
  "language_info": {
   "codemirror_mode": {
    "name": "ipython",
    "version": 3
   },
   "file_extension": ".py",
   "mimetype": "text/x-python",
   "name": "python",
   "nbconvert_exporter": "python",
   "pygments_lexer": "ipython3",
   "version": "3.9.7"
  }
 },
 "nbformat": 4,
 "nbformat_minor": 5
}
